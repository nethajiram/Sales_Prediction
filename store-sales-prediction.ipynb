{
 "cells": [
  {
   "cell_type": "code",
   "execution_count": 1,
   "id": "cd96ff93",
   "metadata": {
    "execution": {
     "iopub.execute_input": "2023-04-18T07:17:15.252384Z",
     "iopub.status.busy": "2023-04-18T07:17:15.251963Z",
     "iopub.status.idle": "2023-04-18T07:17:16.686823Z",
     "shell.execute_reply": "2023-04-18T07:17:16.685362Z"
    },
    "papermill": {
     "duration": 1.458629,
     "end_time": "2023-04-18T07:17:16.689696",
     "exception": false,
     "start_time": "2023-04-18T07:17:15.231067",
     "status": "completed"
    },
    "tags": []
   },
   "outputs": [],
   "source": [
    "import pandas as pd\n",
    "import numpy as np\n",
    "from numpy.random import seed\n",
    "from numpy.random import randn\n",
    "import matplotlib.pyplot as plt\n",
    "%matplotlib inline\n",
    "import seaborn as sns\n",
    "import csv\n",
    "import time"
   ]
  },
  {
   "cell_type": "code",
   "execution_count": 2,
   "id": "99223c9f",
   "metadata": {
    "execution": {
     "iopub.execute_input": "2023-04-18T07:17:16.728854Z",
     "iopub.status.busy": "2023-04-18T07:17:16.727790Z",
     "iopub.status.idle": "2023-04-18T07:17:16.737661Z",
     "shell.execute_reply": "2023-04-18T07:17:16.736362Z"
    },
    "papermill": {
     "duration": 0.032968,
     "end_time": "2023-04-18T07:17:16.740418",
     "exception": false,
     "start_time": "2023-04-18T07:17:16.707450",
     "status": "completed"
    },
    "tags": []
   },
   "outputs": [
    {
     "name": "stdout",
     "output_type": "stream",
     "text": [
      "/kaggle/input/predicting-the-sales-of-products-of-a-retail-chain\n"
     ]
    }
   ],
   "source": [
    "cd /kaggle/input/predicting-the-sales-of-products-of-a-retail-chain"
   ]
  },
  {
   "cell_type": "code",
   "execution_count": 3,
   "id": "2b454821",
   "metadata": {
    "execution": {
     "iopub.execute_input": "2023-04-18T07:17:16.778245Z",
     "iopub.status.busy": "2023-04-18T07:17:16.776979Z",
     "iopub.status.idle": "2023-04-18T07:17:17.341150Z",
     "shell.execute_reply": "2023-04-18T07:17:17.340060Z"
    },
    "papermill": {
     "duration": 0.586287,
     "end_time": "2023-04-18T07:17:17.344077",
     "exception": false,
     "start_time": "2023-04-18T07:17:16.757790",
     "status": "completed"
    },
    "tags": []
   },
   "outputs": [],
   "source": [
    "sales_data = pd.read_csv(\"train_data.csv\")"
   ]
  },
  {
   "cell_type": "code",
   "execution_count": 4,
   "id": "9dbb09bb",
   "metadata": {
    "execution": {
     "iopub.execute_input": "2023-04-18T07:17:17.383583Z",
     "iopub.status.busy": "2023-04-18T07:17:17.382172Z",
     "iopub.status.idle": "2023-04-18T07:17:17.415422Z",
     "shell.execute_reply": "2023-04-18T07:17:17.414005Z"
    },
    "papermill": {
     "duration": 0.056117,
     "end_time": "2023-04-18T07:17:17.418417",
     "exception": false,
     "start_time": "2023-04-18T07:17:17.362300",
     "status": "completed"
    },
    "tags": []
   },
   "outputs": [
    {
     "data": {
      "text/html": [
       "<div>\n",
       "<style scoped>\n",
       "    .dataframe tbody tr th:only-of-type {\n",
       "        vertical-align: middle;\n",
       "    }\n",
       "\n",
       "    .dataframe tbody tr th {\n",
       "        vertical-align: top;\n",
       "    }\n",
       "\n",
       "    .dataframe thead th {\n",
       "        text-align: right;\n",
       "    }\n",
       "</style>\n",
       "<table border=\"1\" class=\"dataframe\">\n",
       "  <thead>\n",
       "    <tr style=\"text-align: right;\">\n",
       "      <th></th>\n",
       "      <th>date</th>\n",
       "      <th>product_identifier</th>\n",
       "      <th>department_identifier</th>\n",
       "      <th>category_of_product</th>\n",
       "      <th>outlet</th>\n",
       "      <th>state</th>\n",
       "      <th>sales</th>\n",
       "    </tr>\n",
       "  </thead>\n",
       "  <tbody>\n",
       "    <tr>\n",
       "      <th>0</th>\n",
       "      <td>2012-01-01</td>\n",
       "      <td>74</td>\n",
       "      <td>11</td>\n",
       "      <td>others</td>\n",
       "      <td>111</td>\n",
       "      <td>Maharashtra</td>\n",
       "      <td>0</td>\n",
       "    </tr>\n",
       "    <tr>\n",
       "      <th>1</th>\n",
       "      <td>2012-01-01</td>\n",
       "      <td>337</td>\n",
       "      <td>11</td>\n",
       "      <td>others</td>\n",
       "      <td>111</td>\n",
       "      <td>Maharashtra</td>\n",
       "      <td>1</td>\n",
       "    </tr>\n",
       "    <tr>\n",
       "      <th>2</th>\n",
       "      <td>2012-01-01</td>\n",
       "      <td>423</td>\n",
       "      <td>12</td>\n",
       "      <td>others</td>\n",
       "      <td>111</td>\n",
       "      <td>Maharashtra</td>\n",
       "      <td>0</td>\n",
       "    </tr>\n",
       "    <tr>\n",
       "      <th>3</th>\n",
       "      <td>2012-01-01</td>\n",
       "      <td>432</td>\n",
       "      <td>12</td>\n",
       "      <td>others</td>\n",
       "      <td>111</td>\n",
       "      <td>Maharashtra</td>\n",
       "      <td>0</td>\n",
       "    </tr>\n",
       "    <tr>\n",
       "      <th>4</th>\n",
       "      <td>2012-01-01</td>\n",
       "      <td>581</td>\n",
       "      <td>21</td>\n",
       "      <td>fast_moving_consumer_goods</td>\n",
       "      <td>111</td>\n",
       "      <td>Maharashtra</td>\n",
       "      <td>0</td>\n",
       "    </tr>\n",
       "  </tbody>\n",
       "</table>\n",
       "</div>"
      ],
      "text/plain": [
       "         date  product_identifier  department_identifier  \\\n",
       "0  2012-01-01                  74                     11   \n",
       "1  2012-01-01                 337                     11   \n",
       "2  2012-01-01                 423                     12   \n",
       "3  2012-01-01                 432                     12   \n",
       "4  2012-01-01                 581                     21   \n",
       "\n",
       "          category_of_product  outlet        state  sales  \n",
       "0                      others     111  Maharashtra      0  \n",
       "1                      others     111  Maharashtra      1  \n",
       "2                      others     111  Maharashtra      0  \n",
       "3                      others     111  Maharashtra      0  \n",
       "4  fast_moving_consumer_goods     111  Maharashtra      0  "
      ]
     },
     "execution_count": 4,
     "metadata": {},
     "output_type": "execute_result"
    }
   ],
   "source": [
    "sales_data.head() "
   ]
  },
  {
   "cell_type": "code",
   "execution_count": 5,
   "id": "eb9180ee",
   "metadata": {
    "execution": {
     "iopub.execute_input": "2023-04-18T07:17:17.458194Z",
     "iopub.status.busy": "2023-04-18T07:17:17.456882Z",
     "iopub.status.idle": "2023-04-18T07:17:17.506617Z",
     "shell.execute_reply": "2023-04-18T07:17:17.505448Z"
    },
    "papermill": {
     "duration": 0.072347,
     "end_time": "2023-04-18T07:17:17.509573",
     "exception": false,
     "start_time": "2023-04-18T07:17:17.437226",
     "status": "completed"
    },
    "tags": []
   },
   "outputs": [],
   "source": [
    "product_price = pd.read_csv(\"product_prices.csv\")\n"
   ]
  },
  {
   "cell_type": "code",
   "execution_count": 6,
   "id": "56469e7a",
   "metadata": {
    "execution": {
     "iopub.execute_input": "2023-04-18T07:17:17.547590Z",
     "iopub.status.busy": "2023-04-18T07:17:17.546685Z",
     "iopub.status.idle": "2023-04-18T07:17:17.559250Z",
     "shell.execute_reply": "2023-04-18T07:17:17.558337Z"
    },
    "papermill": {
     "duration": 0.034994,
     "end_time": "2023-04-18T07:17:17.562183",
     "exception": false,
     "start_time": "2023-04-18T07:17:17.527189",
     "status": "completed"
    },
    "tags": []
   },
   "outputs": [
    {
     "data": {
      "text/html": [
       "<div>\n",
       "<style scoped>\n",
       "    .dataframe tbody tr th:only-of-type {\n",
       "        vertical-align: middle;\n",
       "    }\n",
       "\n",
       "    .dataframe tbody tr th {\n",
       "        vertical-align: top;\n",
       "    }\n",
       "\n",
       "    .dataframe thead th {\n",
       "        text-align: right;\n",
       "    }\n",
       "</style>\n",
       "<table border=\"1\" class=\"dataframe\">\n",
       "  <thead>\n",
       "    <tr style=\"text-align: right;\">\n",
       "      <th></th>\n",
       "      <th>outlet</th>\n",
       "      <th>product_identifier</th>\n",
       "      <th>week_id</th>\n",
       "      <th>sell_price</th>\n",
       "    </tr>\n",
       "  </thead>\n",
       "  <tbody>\n",
       "    <tr>\n",
       "      <th>0</th>\n",
       "      <td>111</td>\n",
       "      <td>74</td>\n",
       "      <td>49</td>\n",
       "      <td>2.94</td>\n",
       "    </tr>\n",
       "    <tr>\n",
       "      <th>1</th>\n",
       "      <td>111</td>\n",
       "      <td>74</td>\n",
       "      <td>50</td>\n",
       "      <td>2.94</td>\n",
       "    </tr>\n",
       "    <tr>\n",
       "      <th>2</th>\n",
       "      <td>111</td>\n",
       "      <td>74</td>\n",
       "      <td>51</td>\n",
       "      <td>2.94</td>\n",
       "    </tr>\n",
       "    <tr>\n",
       "      <th>3</th>\n",
       "      <td>111</td>\n",
       "      <td>74</td>\n",
       "      <td>52</td>\n",
       "      <td>2.94</td>\n",
       "    </tr>\n",
       "    <tr>\n",
       "      <th>4</th>\n",
       "      <td>111</td>\n",
       "      <td>74</td>\n",
       "      <td>53</td>\n",
       "      <td>2.94</td>\n",
       "    </tr>\n",
       "  </tbody>\n",
       "</table>\n",
       "</div>"
      ],
      "text/plain": [
       "   outlet  product_identifier  week_id  sell_price\n",
       "0     111                  74       49        2.94\n",
       "1     111                  74       50        2.94\n",
       "2     111                  74       51        2.94\n",
       "3     111                  74       52        2.94\n",
       "4     111                  74       53        2.94"
      ]
     },
     "execution_count": 6,
     "metadata": {},
     "output_type": "execute_result"
    }
   ],
   "source": [
    "product_price.head()"
   ]
  },
  {
   "cell_type": "code",
   "execution_count": 7,
   "id": "ec2ab004",
   "metadata": {
    "execution": {
     "iopub.execute_input": "2023-04-18T07:17:17.600283Z",
     "iopub.status.busy": "2023-04-18T07:17:17.599604Z",
     "iopub.status.idle": "2023-04-18T07:17:17.612396Z",
     "shell.execute_reply": "2023-04-18T07:17:17.610796Z"
    },
    "papermill": {
     "duration": 0.035454,
     "end_time": "2023-04-18T07:17:17.615499",
     "exception": false,
     "start_time": "2023-04-18T07:17:17.580045",
     "status": "completed"
    },
    "tags": []
   },
   "outputs": [],
   "source": [
    "date_to_week=pd.read_csv(\"date_to_week_id_map.csv\")"
   ]
  },
  {
   "cell_type": "code",
   "execution_count": 8,
   "id": "57de5b56",
   "metadata": {
    "execution": {
     "iopub.execute_input": "2023-04-18T07:17:17.654746Z",
     "iopub.status.busy": "2023-04-18T07:17:17.654285Z",
     "iopub.status.idle": "2023-04-18T07:17:17.664876Z",
     "shell.execute_reply": "2023-04-18T07:17:17.663732Z"
    },
    "papermill": {
     "duration": 0.03317,
     "end_time": "2023-04-18T07:17:17.667661",
     "exception": false,
     "start_time": "2023-04-18T07:17:17.634491",
     "status": "completed"
    },
    "tags": []
   },
   "outputs": [
    {
     "data": {
      "text/html": [
       "<div>\n",
       "<style scoped>\n",
       "    .dataframe tbody tr th:only-of-type {\n",
       "        vertical-align: middle;\n",
       "    }\n",
       "\n",
       "    .dataframe tbody tr th {\n",
       "        vertical-align: top;\n",
       "    }\n",
       "\n",
       "    .dataframe thead th {\n",
       "        text-align: right;\n",
       "    }\n",
       "</style>\n",
       "<table border=\"1\" class=\"dataframe\">\n",
       "  <thead>\n",
       "    <tr style=\"text-align: right;\">\n",
       "      <th></th>\n",
       "      <th>date</th>\n",
       "      <th>week_id</th>\n",
       "    </tr>\n",
       "  </thead>\n",
       "  <tbody>\n",
       "    <tr>\n",
       "      <th>0</th>\n",
       "      <td>2012-01-01</td>\n",
       "      <td>49</td>\n",
       "    </tr>\n",
       "    <tr>\n",
       "      <th>1</th>\n",
       "      <td>2012-01-02</td>\n",
       "      <td>49</td>\n",
       "    </tr>\n",
       "    <tr>\n",
       "      <th>2</th>\n",
       "      <td>2012-01-03</td>\n",
       "      <td>49</td>\n",
       "    </tr>\n",
       "    <tr>\n",
       "      <th>3</th>\n",
       "      <td>2012-01-04</td>\n",
       "      <td>49</td>\n",
       "    </tr>\n",
       "    <tr>\n",
       "      <th>4</th>\n",
       "      <td>2012-01-05</td>\n",
       "      <td>49</td>\n",
       "    </tr>\n",
       "  </tbody>\n",
       "</table>\n",
       "</div>"
      ],
      "text/plain": [
       "         date  week_id\n",
       "0  2012-01-01       49\n",
       "1  2012-01-02       49\n",
       "2  2012-01-03       49\n",
       "3  2012-01-04       49\n",
       "4  2012-01-05       49"
      ]
     },
     "execution_count": 8,
     "metadata": {},
     "output_type": "execute_result"
    }
   ],
   "source": [
    "date_to_week.head()"
   ]
  },
  {
   "cell_type": "code",
   "execution_count": 9,
   "id": "e560bfe4",
   "metadata": {
    "execution": {
     "iopub.execute_input": "2023-04-18T07:17:17.706873Z",
     "iopub.status.busy": "2023-04-18T07:17:17.706370Z",
     "iopub.status.idle": "2023-04-18T07:17:17.713421Z",
     "shell.execute_reply": "2023-04-18T07:17:17.711865Z"
    },
    "papermill": {
     "duration": 0.030641,
     "end_time": "2023-04-18T07:17:17.716647",
     "exception": false,
     "start_time": "2023-04-18T07:17:17.686006",
     "status": "completed"
    },
    "tags": []
   },
   "outputs": [
    {
     "name": "stdout",
     "output_type": "stream",
     "text": [
      "(395000, 7)\n",
      "(59000, 4)\n",
      "(821, 2)\n"
     ]
    }
   ],
   "source": [
    "print(sales_data.shape) \n",
    "print(product_price.shape) \n",
    "print(date_to_week.shape)"
   ]
  },
  {
   "cell_type": "code",
   "execution_count": 10,
   "id": "43578efe",
   "metadata": {
    "execution": {
     "iopub.execute_input": "2023-04-18T07:17:17.754901Z",
     "iopub.status.busy": "2023-04-18T07:17:17.754428Z",
     "iopub.status.idle": "2023-04-18T07:17:17.817075Z",
     "shell.execute_reply": "2023-04-18T07:17:17.815563Z"
    },
    "papermill": {
     "duration": 0.085236,
     "end_time": "2023-04-18T07:17:17.819981",
     "exception": false,
     "start_time": "2023-04-18T07:17:17.734745",
     "status": "completed"
    },
    "tags": []
   },
   "outputs": [],
   "source": [
    "prod_date=pd.merge(product_price,date_to_week, on=['week_id'], how='inner') \n"
   ]
  },
  {
   "cell_type": "code",
   "execution_count": 11,
   "id": "e0d22b15",
   "metadata": {
    "execution": {
     "iopub.execute_input": "2023-04-18T07:17:17.858522Z",
     "iopub.status.busy": "2023-04-18T07:17:17.858045Z",
     "iopub.status.idle": "2023-04-18T07:17:17.870392Z",
     "shell.execute_reply": "2023-04-18T07:17:17.869461Z"
    },
    "papermill": {
     "duration": 0.034256,
     "end_time": "2023-04-18T07:17:17.872616",
     "exception": false,
     "start_time": "2023-04-18T07:17:17.838360",
     "status": "completed"
    },
    "tags": []
   },
   "outputs": [
    {
     "data": {
      "text/html": [
       "<div>\n",
       "<style scoped>\n",
       "    .dataframe tbody tr th:only-of-type {\n",
       "        vertical-align: middle;\n",
       "    }\n",
       "\n",
       "    .dataframe tbody tr th {\n",
       "        vertical-align: top;\n",
       "    }\n",
       "\n",
       "    .dataframe thead th {\n",
       "        text-align: right;\n",
       "    }\n",
       "</style>\n",
       "<table border=\"1\" class=\"dataframe\">\n",
       "  <thead>\n",
       "    <tr style=\"text-align: right;\">\n",
       "      <th></th>\n",
       "      <th>outlet</th>\n",
       "      <th>product_identifier</th>\n",
       "      <th>week_id</th>\n",
       "      <th>sell_price</th>\n",
       "      <th>date</th>\n",
       "    </tr>\n",
       "  </thead>\n",
       "  <tbody>\n",
       "    <tr>\n",
       "      <th>0</th>\n",
       "      <td>111</td>\n",
       "      <td>74</td>\n",
       "      <td>49</td>\n",
       "      <td>2.94</td>\n",
       "      <td>2012-01-01</td>\n",
       "    </tr>\n",
       "    <tr>\n",
       "      <th>1</th>\n",
       "      <td>111</td>\n",
       "      <td>74</td>\n",
       "      <td>49</td>\n",
       "      <td>2.94</td>\n",
       "      <td>2012-01-02</td>\n",
       "    </tr>\n",
       "    <tr>\n",
       "      <th>2</th>\n",
       "      <td>111</td>\n",
       "      <td>74</td>\n",
       "      <td>49</td>\n",
       "      <td>2.94</td>\n",
       "      <td>2012-01-03</td>\n",
       "    </tr>\n",
       "    <tr>\n",
       "      <th>3</th>\n",
       "      <td>111</td>\n",
       "      <td>74</td>\n",
       "      <td>49</td>\n",
       "      <td>2.94</td>\n",
       "      <td>2012-01-04</td>\n",
       "    </tr>\n",
       "    <tr>\n",
       "      <th>4</th>\n",
       "      <td>111</td>\n",
       "      <td>74</td>\n",
       "      <td>49</td>\n",
       "      <td>2.94</td>\n",
       "      <td>2012-01-05</td>\n",
       "    </tr>\n",
       "  </tbody>\n",
       "</table>\n",
       "</div>"
      ],
      "text/plain": [
       "   outlet  product_identifier  week_id  sell_price        date\n",
       "0     111                  74       49        2.94  2012-01-01\n",
       "1     111                  74       49        2.94  2012-01-02\n",
       "2     111                  74       49        2.94  2012-01-03\n",
       "3     111                  74       49        2.94  2012-01-04\n",
       "4     111                  74       49        2.94  2012-01-05"
      ]
     },
     "execution_count": 11,
     "metadata": {},
     "output_type": "execute_result"
    }
   ],
   "source": [
    "prod_date.head()"
   ]
  },
  {
   "cell_type": "code",
   "execution_count": 12,
   "id": "45e8fce9",
   "metadata": {
    "execution": {
     "iopub.execute_input": "2023-04-18T07:17:17.911874Z",
     "iopub.status.busy": "2023-04-18T07:17:17.911409Z",
     "iopub.status.idle": "2023-04-18T07:17:18.198314Z",
     "shell.execute_reply": "2023-04-18T07:17:18.196795Z"
    },
    "papermill": {
     "duration": 0.309993,
     "end_time": "2023-04-18T07:17:18.201120",
     "exception": false,
     "start_time": "2023-04-18T07:17:17.891127",
     "status": "completed"
    },
    "tags": []
   },
   "outputs": [
    {
     "data": {
      "text/html": [
       "<div>\n",
       "<style scoped>\n",
       "    .dataframe tbody tr th:only-of-type {\n",
       "        vertical-align: middle;\n",
       "    }\n",
       "\n",
       "    .dataframe tbody tr th {\n",
       "        vertical-align: top;\n",
       "    }\n",
       "\n",
       "    .dataframe thead th {\n",
       "        text-align: right;\n",
       "    }\n",
       "</style>\n",
       "<table border=\"1\" class=\"dataframe\">\n",
       "  <thead>\n",
       "    <tr style=\"text-align: right;\">\n",
       "      <th></th>\n",
       "      <th>date</th>\n",
       "      <th>product_identifier</th>\n",
       "      <th>department_identifier</th>\n",
       "      <th>category_of_product</th>\n",
       "      <th>outlet</th>\n",
       "      <th>state</th>\n",
       "      <th>sales</th>\n",
       "      <th>week_id</th>\n",
       "      <th>sell_price</th>\n",
       "    </tr>\n",
       "  </thead>\n",
       "  <tbody>\n",
       "    <tr>\n",
       "      <th>0</th>\n",
       "      <td>2012-01-01</td>\n",
       "      <td>74</td>\n",
       "      <td>11</td>\n",
       "      <td>others</td>\n",
       "      <td>111</td>\n",
       "      <td>Maharashtra</td>\n",
       "      <td>0</td>\n",
       "      <td>49</td>\n",
       "      <td>2.94</td>\n",
       "    </tr>\n",
       "    <tr>\n",
       "      <th>1</th>\n",
       "      <td>2012-01-01</td>\n",
       "      <td>337</td>\n",
       "      <td>11</td>\n",
       "      <td>others</td>\n",
       "      <td>111</td>\n",
       "      <td>Maharashtra</td>\n",
       "      <td>1</td>\n",
       "      <td>49</td>\n",
       "      <td>7.44</td>\n",
       "    </tr>\n",
       "    <tr>\n",
       "      <th>2</th>\n",
       "      <td>2012-01-01</td>\n",
       "      <td>423</td>\n",
       "      <td>12</td>\n",
       "      <td>others</td>\n",
       "      <td>111</td>\n",
       "      <td>Maharashtra</td>\n",
       "      <td>0</td>\n",
       "      <td>49</td>\n",
       "      <td>0.97</td>\n",
       "    </tr>\n",
       "    <tr>\n",
       "      <th>3</th>\n",
       "      <td>2012-01-01</td>\n",
       "      <td>432</td>\n",
       "      <td>12</td>\n",
       "      <td>others</td>\n",
       "      <td>111</td>\n",
       "      <td>Maharashtra</td>\n",
       "      <td>0</td>\n",
       "      <td>49</td>\n",
       "      <td>4.97</td>\n",
       "    </tr>\n",
       "    <tr>\n",
       "      <th>4</th>\n",
       "      <td>2012-01-01</td>\n",
       "      <td>581</td>\n",
       "      <td>21</td>\n",
       "      <td>fast_moving_consumer_goods</td>\n",
       "      <td>111</td>\n",
       "      <td>Maharashtra</td>\n",
       "      <td>0</td>\n",
       "      <td>49</td>\n",
       "      <td>4.88</td>\n",
       "    </tr>\n",
       "  </tbody>\n",
       "</table>\n",
       "</div>"
      ],
      "text/plain": [
       "         date  product_identifier  department_identifier  \\\n",
       "0  2012-01-01                  74                     11   \n",
       "1  2012-01-01                 337                     11   \n",
       "2  2012-01-01                 423                     12   \n",
       "3  2012-01-01                 432                     12   \n",
       "4  2012-01-01                 581                     21   \n",
       "\n",
       "          category_of_product  outlet        state  sales  week_id  sell_price  \n",
       "0                      others     111  Maharashtra      0       49        2.94  \n",
       "1                      others     111  Maharashtra      1       49        7.44  \n",
       "2                      others     111  Maharashtra      0       49        0.97  \n",
       "3                      others     111  Maharashtra      0       49        4.97  \n",
       "4  fast_moving_consumer_goods     111  Maharashtra      0       49        4.88  "
      ]
     },
     "execution_count": 12,
     "metadata": {},
     "output_type": "execute_result"
    }
   ],
   "source": [
    "train_dataset=pd.merge(sales_data,prod_date, on=['date','product_identifier','outlet'], how='inner')\n",
    "train_dataset.head()"
   ]
  },
  {
   "cell_type": "code",
   "execution_count": 13,
   "id": "133d2e1a",
   "metadata": {
    "execution": {
     "iopub.execute_input": "2023-04-18T07:17:18.241386Z",
     "iopub.status.busy": "2023-04-18T07:17:18.240535Z",
     "iopub.status.idle": "2023-04-18T07:17:18.248264Z",
     "shell.execute_reply": "2023-04-18T07:17:18.247002Z"
    },
    "papermill": {
     "duration": 0.030501,
     "end_time": "2023-04-18T07:17:18.250792",
     "exception": false,
     "start_time": "2023-04-18T07:17:18.220291",
     "status": "completed"
    },
    "tags": []
   },
   "outputs": [
    {
     "data": {
      "text/plain": [
       "(395000, 9)"
      ]
     },
     "execution_count": 13,
     "metadata": {},
     "output_type": "execute_result"
    }
   ],
   "source": [
    "train_dataset.shape"
   ]
  },
  {
   "cell_type": "code",
   "execution_count": 14,
   "id": "ea5b3b1e",
   "metadata": {
    "execution": {
     "iopub.execute_input": "2023-04-18T07:17:18.290555Z",
     "iopub.status.busy": "2023-04-18T07:17:18.290045Z",
     "iopub.status.idle": "2023-04-18T07:17:18.364476Z",
     "shell.execute_reply": "2023-04-18T07:17:18.363073Z"
    },
    "papermill": {
     "duration": 0.097836,
     "end_time": "2023-04-18T07:17:18.367536",
     "exception": false,
     "start_time": "2023-04-18T07:17:18.269700",
     "status": "completed"
    },
    "tags": []
   },
   "outputs": [
    {
     "data": {
      "text/plain": [
       "date                     0\n",
       "product_identifier       0\n",
       "department_identifier    0\n",
       "category_of_product      0\n",
       "outlet                   0\n",
       "state                    0\n",
       "sales                    0\n",
       "week_id                  0\n",
       "sell_price               0\n",
       "dtype: int64"
      ]
     },
     "execution_count": 14,
     "metadata": {},
     "output_type": "execute_result"
    }
   ],
   "source": [
    "train_dataset.isnull().sum()"
   ]
  },
  {
   "cell_type": "code",
   "execution_count": 15,
   "id": "22f0da9e",
   "metadata": {
    "execution": {
     "iopub.execute_input": "2023-04-18T07:17:18.408524Z",
     "iopub.status.busy": "2023-04-18T07:17:18.408052Z",
     "iopub.status.idle": "2023-04-18T07:17:18.417568Z",
     "shell.execute_reply": "2023-04-18T07:17:18.416269Z"
    },
    "papermill": {
     "duration": 0.032986,
     "end_time": "2023-04-18T07:17:18.420240",
     "exception": false,
     "start_time": "2023-04-18T07:17:18.387254",
     "status": "completed"
    },
    "tags": []
   },
   "outputs": [
    {
     "data": {
      "text/plain": [
       "date                      object\n",
       "product_identifier         int64\n",
       "department_identifier      int64\n",
       "category_of_product       object\n",
       "outlet                     int64\n",
       "state                     object\n",
       "sales                      int64\n",
       "week_id                    int64\n",
       "sell_price               float64\n",
       "dtype: object"
      ]
     },
     "execution_count": 15,
     "metadata": {},
     "output_type": "execute_result"
    }
   ],
   "source": [
    "train_dataset.dtypes"
   ]
  },
  {
   "cell_type": "code",
   "execution_count": 16,
   "id": "f7934441",
   "metadata": {
    "execution": {
     "iopub.execute_input": "2023-04-18T07:17:18.461381Z",
     "iopub.status.busy": "2023-04-18T07:17:18.460942Z",
     "iopub.status.idle": "2023-04-18T07:17:18.609005Z",
     "shell.execute_reply": "2023-04-18T07:17:18.607518Z"
    },
    "papermill": {
     "duration": 0.171966,
     "end_time": "2023-04-18T07:17:18.611862",
     "exception": false,
     "start_time": "2023-04-18T07:17:18.439896",
     "status": "completed"
    },
    "tags": []
   },
   "outputs": [
    {
     "data": {
      "text/html": [
       "<div>\n",
       "<style scoped>\n",
       "    .dataframe tbody tr th:only-of-type {\n",
       "        vertical-align: middle;\n",
       "    }\n",
       "\n",
       "    .dataframe tbody tr th {\n",
       "        vertical-align: top;\n",
       "    }\n",
       "\n",
       "    .dataframe thead th {\n",
       "        text-align: right;\n",
       "    }\n",
       "</style>\n",
       "<table border=\"1\" class=\"dataframe\">\n",
       "  <thead>\n",
       "    <tr style=\"text-align: right;\">\n",
       "      <th></th>\n",
       "      <th>product_identifier</th>\n",
       "      <th>department_identifier</th>\n",
       "      <th>outlet</th>\n",
       "      <th>sales</th>\n",
       "      <th>week_id</th>\n",
       "      <th>sell_price</th>\n",
       "    </tr>\n",
       "  </thead>\n",
       "  <tbody>\n",
       "    <tr>\n",
       "      <th>count</th>\n",
       "      <td>395000.000000</td>\n",
       "      <td>395000.000000</td>\n",
       "      <td>395000.000000</td>\n",
       "      <td>395000.000000</td>\n",
       "      <td>395000.000000</td>\n",
       "      <td>395000.000000</td>\n",
       "    </tr>\n",
       "    <tr>\n",
       "      <th>mean</th>\n",
       "      <td>1509.960000</td>\n",
       "      <td>24.460000</td>\n",
       "      <td>211.200000</td>\n",
       "      <td>1.228919</td>\n",
       "      <td>105.070886</td>\n",
       "      <td>4.987644</td>\n",
       "    </tr>\n",
       "    <tr>\n",
       "      <th>std</th>\n",
       "      <td>809.799518</td>\n",
       "      <td>6.337863</td>\n",
       "      <td>91.161291</td>\n",
       "      <td>3.595266</td>\n",
       "      <td>32.578749</td>\n",
       "      <td>3.874444</td>\n",
       "    </tr>\n",
       "    <tr>\n",
       "      <th>min</th>\n",
       "      <td>74.000000</td>\n",
       "      <td>11.000000</td>\n",
       "      <td>111.000000</td>\n",
       "      <td>0.000000</td>\n",
       "      <td>49.000000</td>\n",
       "      <td>0.050000</td>\n",
       "    </tr>\n",
       "    <tr>\n",
       "      <th>25%</th>\n",
       "      <td>926.000000</td>\n",
       "      <td>21.000000</td>\n",
       "      <td>113.000000</td>\n",
       "      <td>0.000000</td>\n",
       "      <td>77.000000</td>\n",
       "      <td>2.680000</td>\n",
       "    </tr>\n",
       "    <tr>\n",
       "      <th>50%</th>\n",
       "      <td>1325.000000</td>\n",
       "      <td>22.000000</td>\n",
       "      <td>221.500000</td>\n",
       "      <td>0.000000</td>\n",
       "      <td>105.000000</td>\n",
       "      <td>3.980000</td>\n",
       "    </tr>\n",
       "    <tr>\n",
       "      <th>75%</th>\n",
       "      <td>1753.000000</td>\n",
       "      <td>31.000000</td>\n",
       "      <td>331.000000</td>\n",
       "      <td>1.000000</td>\n",
       "      <td>133.000000</td>\n",
       "      <td>6.480000</td>\n",
       "    </tr>\n",
       "    <tr>\n",
       "      <th>max</th>\n",
       "      <td>3021.000000</td>\n",
       "      <td>33.000000</td>\n",
       "      <td>333.000000</td>\n",
       "      <td>293.000000</td>\n",
       "      <td>161.000000</td>\n",
       "      <td>44.360000</td>\n",
       "    </tr>\n",
       "  </tbody>\n",
       "</table>\n",
       "</div>"
      ],
      "text/plain": [
       "       product_identifier  department_identifier         outlet  \\\n",
       "count       395000.000000          395000.000000  395000.000000   \n",
       "mean          1509.960000              24.460000     211.200000   \n",
       "std            809.799518               6.337863      91.161291   \n",
       "min             74.000000              11.000000     111.000000   \n",
       "25%            926.000000              21.000000     113.000000   \n",
       "50%           1325.000000              22.000000     221.500000   \n",
       "75%           1753.000000              31.000000     331.000000   \n",
       "max           3021.000000              33.000000     333.000000   \n",
       "\n",
       "               sales        week_id     sell_price  \n",
       "count  395000.000000  395000.000000  395000.000000  \n",
       "mean        1.228919     105.070886       4.987644  \n",
       "std         3.595266      32.578749       3.874444  \n",
       "min         0.000000      49.000000       0.050000  \n",
       "25%         0.000000      77.000000       2.680000  \n",
       "50%         0.000000     105.000000       3.980000  \n",
       "75%         1.000000     133.000000       6.480000  \n",
       "max       293.000000     161.000000      44.360000  "
      ]
     },
     "execution_count": 16,
     "metadata": {},
     "output_type": "execute_result"
    }
   ],
   "source": [
    "train_dataset.describe()"
   ]
  },
  {
   "cell_type": "code",
   "execution_count": 17,
   "id": "7b447549",
   "metadata": {
    "execution": {
     "iopub.execute_input": "2023-04-18T07:17:18.653013Z",
     "iopub.status.busy": "2023-04-18T07:17:18.652588Z",
     "iopub.status.idle": "2023-04-18T07:17:18.667266Z",
     "shell.execute_reply": "2023-04-18T07:17:18.665888Z"
    },
    "papermill": {
     "duration": 0.03908,
     "end_time": "2023-04-18T07:17:18.670116",
     "exception": false,
     "start_time": "2023-04-18T07:17:18.631036",
     "status": "completed"
    },
    "tags": []
   },
   "outputs": [],
   "source": [
    "train_dataset_1 = train_dataset.copy()"
   ]
  },
  {
   "cell_type": "code",
   "execution_count": 18,
   "id": "fd928322",
   "metadata": {
    "execution": {
     "iopub.execute_input": "2023-04-18T07:17:18.710888Z",
     "iopub.status.busy": "2023-04-18T07:17:18.710406Z",
     "iopub.status.idle": "2023-04-18T07:17:18.726013Z",
     "shell.execute_reply": "2023-04-18T07:17:18.724576Z"
    },
    "papermill": {
     "duration": 0.039322,
     "end_time": "2023-04-18T07:17:18.728713",
     "exception": false,
     "start_time": "2023-04-18T07:17:18.689391",
     "status": "completed"
    },
    "tags": []
   },
   "outputs": [
    {
     "data": {
      "text/html": [
       "<div>\n",
       "<style scoped>\n",
       "    .dataframe tbody tr th:only-of-type {\n",
       "        vertical-align: middle;\n",
       "    }\n",
       "\n",
       "    .dataframe tbody tr th {\n",
       "        vertical-align: top;\n",
       "    }\n",
       "\n",
       "    .dataframe thead th {\n",
       "        text-align: right;\n",
       "    }\n",
       "</style>\n",
       "<table border=\"1\" class=\"dataframe\">\n",
       "  <thead>\n",
       "    <tr style=\"text-align: right;\">\n",
       "      <th></th>\n",
       "      <th>date</th>\n",
       "      <th>product_identifier</th>\n",
       "      <th>department_identifier</th>\n",
       "      <th>category_of_product</th>\n",
       "      <th>outlet</th>\n",
       "      <th>state</th>\n",
       "      <th>sales</th>\n",
       "      <th>week_id</th>\n",
       "      <th>sell_price</th>\n",
       "    </tr>\n",
       "  </thead>\n",
       "  <tbody>\n",
       "    <tr>\n",
       "      <th>0</th>\n",
       "      <td>2012-01-01</td>\n",
       "      <td>74</td>\n",
       "      <td>11</td>\n",
       "      <td>others</td>\n",
       "      <td>111</td>\n",
       "      <td>Maharashtra</td>\n",
       "      <td>0</td>\n",
       "      <td>49</td>\n",
       "      <td>2.94</td>\n",
       "    </tr>\n",
       "    <tr>\n",
       "      <th>1</th>\n",
       "      <td>2012-01-01</td>\n",
       "      <td>337</td>\n",
       "      <td>11</td>\n",
       "      <td>others</td>\n",
       "      <td>111</td>\n",
       "      <td>Maharashtra</td>\n",
       "      <td>1</td>\n",
       "      <td>49</td>\n",
       "      <td>7.44</td>\n",
       "    </tr>\n",
       "    <tr>\n",
       "      <th>2</th>\n",
       "      <td>2012-01-01</td>\n",
       "      <td>423</td>\n",
       "      <td>12</td>\n",
       "      <td>others</td>\n",
       "      <td>111</td>\n",
       "      <td>Maharashtra</td>\n",
       "      <td>0</td>\n",
       "      <td>49</td>\n",
       "      <td>0.97</td>\n",
       "    </tr>\n",
       "    <tr>\n",
       "      <th>3</th>\n",
       "      <td>2012-01-01</td>\n",
       "      <td>432</td>\n",
       "      <td>12</td>\n",
       "      <td>others</td>\n",
       "      <td>111</td>\n",
       "      <td>Maharashtra</td>\n",
       "      <td>0</td>\n",
       "      <td>49</td>\n",
       "      <td>4.97</td>\n",
       "    </tr>\n",
       "    <tr>\n",
       "      <th>4</th>\n",
       "      <td>2012-01-01</td>\n",
       "      <td>581</td>\n",
       "      <td>21</td>\n",
       "      <td>fast_moving_consumer_goods</td>\n",
       "      <td>111</td>\n",
       "      <td>Maharashtra</td>\n",
       "      <td>0</td>\n",
       "      <td>49</td>\n",
       "      <td>4.88</td>\n",
       "    </tr>\n",
       "  </tbody>\n",
       "</table>\n",
       "</div>"
      ],
      "text/plain": [
       "         date  product_identifier  department_identifier  \\\n",
       "0  2012-01-01                  74                     11   \n",
       "1  2012-01-01                 337                     11   \n",
       "2  2012-01-01                 423                     12   \n",
       "3  2012-01-01                 432                     12   \n",
       "4  2012-01-01                 581                     21   \n",
       "\n",
       "          category_of_product  outlet        state  sales  week_id  sell_price  \n",
       "0                      others     111  Maharashtra      0       49        2.94  \n",
       "1                      others     111  Maharashtra      1       49        7.44  \n",
       "2                      others     111  Maharashtra      0       49        0.97  \n",
       "3                      others     111  Maharashtra      0       49        4.97  \n",
       "4  fast_moving_consumer_goods     111  Maharashtra      0       49        4.88  "
      ]
     },
     "execution_count": 18,
     "metadata": {},
     "output_type": "execute_result"
    }
   ],
   "source": [
    "train_dataset_1.head()"
   ]
  },
  {
   "cell_type": "code",
   "execution_count": 19,
   "id": "f2f1e206",
   "metadata": {
    "execution": {
     "iopub.execute_input": "2023-04-18T07:17:18.770484Z",
     "iopub.status.busy": "2023-04-18T07:17:18.769649Z",
     "iopub.status.idle": "2023-04-18T07:17:18.905606Z",
     "shell.execute_reply": "2023-04-18T07:17:18.904297Z"
    },
    "papermill": {
     "duration": 0.160045,
     "end_time": "2023-04-18T07:17:18.908816",
     "exception": false,
     "start_time": "2023-04-18T07:17:18.748771",
     "status": "completed"
    },
    "tags": []
   },
   "outputs": [],
   "source": [
    "train_dataset_1 = pd.get_dummies(train_dataset_1, columns =['category_of_product','state'])"
   ]
  },
  {
   "cell_type": "code",
   "execution_count": 20,
   "id": "1a24f5c6",
   "metadata": {
    "execution": {
     "iopub.execute_input": "2023-04-18T07:17:18.950834Z",
     "iopub.status.busy": "2023-04-18T07:17:18.950331Z",
     "iopub.status.idle": "2023-04-18T07:17:18.967536Z",
     "shell.execute_reply": "2023-04-18T07:17:18.965997Z"
    },
    "papermill": {
     "duration": 0.041,
     "end_time": "2023-04-18T07:17:18.970231",
     "exception": false,
     "start_time": "2023-04-18T07:17:18.929231",
     "status": "completed"
    },
    "tags": []
   },
   "outputs": [
    {
     "data": {
      "text/html": [
       "<div>\n",
       "<style scoped>\n",
       "    .dataframe tbody tr th:only-of-type {\n",
       "        vertical-align: middle;\n",
       "    }\n",
       "\n",
       "    .dataframe tbody tr th {\n",
       "        vertical-align: top;\n",
       "    }\n",
       "\n",
       "    .dataframe thead th {\n",
       "        text-align: right;\n",
       "    }\n",
       "</style>\n",
       "<table border=\"1\" class=\"dataframe\">\n",
       "  <thead>\n",
       "    <tr style=\"text-align: right;\">\n",
       "      <th></th>\n",
       "      <th>date</th>\n",
       "      <th>product_identifier</th>\n",
       "      <th>department_identifier</th>\n",
       "      <th>outlet</th>\n",
       "      <th>sales</th>\n",
       "      <th>week_id</th>\n",
       "      <th>sell_price</th>\n",
       "      <th>category_of_product_drinks_and_food</th>\n",
       "      <th>category_of_product_fast_moving_consumer_goods</th>\n",
       "      <th>category_of_product_others</th>\n",
       "      <th>state_Kerala</th>\n",
       "      <th>state_Maharashtra</th>\n",
       "      <th>state_Telangana</th>\n",
       "    </tr>\n",
       "  </thead>\n",
       "  <tbody>\n",
       "    <tr>\n",
       "      <th>0</th>\n",
       "      <td>2012-01-01</td>\n",
       "      <td>74</td>\n",
       "      <td>11</td>\n",
       "      <td>111</td>\n",
       "      <td>0</td>\n",
       "      <td>49</td>\n",
       "      <td>2.94</td>\n",
       "      <td>0</td>\n",
       "      <td>0</td>\n",
       "      <td>1</td>\n",
       "      <td>0</td>\n",
       "      <td>1</td>\n",
       "      <td>0</td>\n",
       "    </tr>\n",
       "    <tr>\n",
       "      <th>1</th>\n",
       "      <td>2012-01-01</td>\n",
       "      <td>337</td>\n",
       "      <td>11</td>\n",
       "      <td>111</td>\n",
       "      <td>1</td>\n",
       "      <td>49</td>\n",
       "      <td>7.44</td>\n",
       "      <td>0</td>\n",
       "      <td>0</td>\n",
       "      <td>1</td>\n",
       "      <td>0</td>\n",
       "      <td>1</td>\n",
       "      <td>0</td>\n",
       "    </tr>\n",
       "    <tr>\n",
       "      <th>2</th>\n",
       "      <td>2012-01-01</td>\n",
       "      <td>423</td>\n",
       "      <td>12</td>\n",
       "      <td>111</td>\n",
       "      <td>0</td>\n",
       "      <td>49</td>\n",
       "      <td>0.97</td>\n",
       "      <td>0</td>\n",
       "      <td>0</td>\n",
       "      <td>1</td>\n",
       "      <td>0</td>\n",
       "      <td>1</td>\n",
       "      <td>0</td>\n",
       "    </tr>\n",
       "    <tr>\n",
       "      <th>3</th>\n",
       "      <td>2012-01-01</td>\n",
       "      <td>432</td>\n",
       "      <td>12</td>\n",
       "      <td>111</td>\n",
       "      <td>0</td>\n",
       "      <td>49</td>\n",
       "      <td>4.97</td>\n",
       "      <td>0</td>\n",
       "      <td>0</td>\n",
       "      <td>1</td>\n",
       "      <td>0</td>\n",
       "      <td>1</td>\n",
       "      <td>0</td>\n",
       "    </tr>\n",
       "    <tr>\n",
       "      <th>4</th>\n",
       "      <td>2012-01-01</td>\n",
       "      <td>581</td>\n",
       "      <td>21</td>\n",
       "      <td>111</td>\n",
       "      <td>0</td>\n",
       "      <td>49</td>\n",
       "      <td>4.88</td>\n",
       "      <td>0</td>\n",
       "      <td>1</td>\n",
       "      <td>0</td>\n",
       "      <td>0</td>\n",
       "      <td>1</td>\n",
       "      <td>0</td>\n",
       "    </tr>\n",
       "  </tbody>\n",
       "</table>\n",
       "</div>"
      ],
      "text/plain": [
       "         date  product_identifier  department_identifier  outlet  sales  \\\n",
       "0  2012-01-01                  74                     11     111      0   \n",
       "1  2012-01-01                 337                     11     111      1   \n",
       "2  2012-01-01                 423                     12     111      0   \n",
       "3  2012-01-01                 432                     12     111      0   \n",
       "4  2012-01-01                 581                     21     111      0   \n",
       "\n",
       "   week_id  sell_price  category_of_product_drinks_and_food  \\\n",
       "0       49        2.94                                    0   \n",
       "1       49        7.44                                    0   \n",
       "2       49        0.97                                    0   \n",
       "3       49        4.97                                    0   \n",
       "4       49        4.88                                    0   \n",
       "\n",
       "   category_of_product_fast_moving_consumer_goods  category_of_product_others  \\\n",
       "0                                               0                           1   \n",
       "1                                               0                           1   \n",
       "2                                               0                           1   \n",
       "3                                               0                           1   \n",
       "4                                               1                           0   \n",
       "\n",
       "   state_Kerala  state_Maharashtra  state_Telangana  \n",
       "0             0                  1                0  \n",
       "1             0                  1                0  \n",
       "2             0                  1                0  \n",
       "3             0                  1                0  \n",
       "4             0                  1                0  "
      ]
     },
     "execution_count": 20,
     "metadata": {},
     "output_type": "execute_result"
    }
   ],
   "source": [
    "train_dataset_1.head()"
   ]
  },
  {
   "cell_type": "code",
   "execution_count": 21,
   "id": "1f94c5ad",
   "metadata": {
    "execution": {
     "iopub.execute_input": "2023-04-18T07:17:19.013646Z",
     "iopub.status.busy": "2023-04-18T07:17:19.013207Z",
     "iopub.status.idle": "2023-04-18T07:17:19.022382Z",
     "shell.execute_reply": "2023-04-18T07:17:19.020919Z"
    },
    "papermill": {
     "duration": 0.033667,
     "end_time": "2023-04-18T07:17:19.025070",
     "exception": false,
     "start_time": "2023-04-18T07:17:18.991403",
     "status": "completed"
    },
    "tags": []
   },
   "outputs": [
    {
     "data": {
      "text/plain": [
       "date                                               object\n",
       "product_identifier                                  int64\n",
       "department_identifier                               int64\n",
       "outlet                                              int64\n",
       "sales                                               int64\n",
       "week_id                                             int64\n",
       "sell_price                                        float64\n",
       "category_of_product_drinks_and_food                 uint8\n",
       "category_of_product_fast_moving_consumer_goods      uint8\n",
       "category_of_product_others                          uint8\n",
       "state_Kerala                                        uint8\n",
       "state_Maharashtra                                   uint8\n",
       "state_Telangana                                     uint8\n",
       "dtype: object"
      ]
     },
     "execution_count": 21,
     "metadata": {},
     "output_type": "execute_result"
    }
   ],
   "source": [
    "train_dataset_1.dtypes"
   ]
  },
  {
   "cell_type": "code",
   "execution_count": 22,
   "id": "9850c98d",
   "metadata": {
    "execution": {
     "iopub.execute_input": "2023-04-18T07:17:19.068302Z",
     "iopub.status.busy": "2023-04-18T07:17:19.067831Z",
     "iopub.status.idle": "2023-04-18T07:17:19.162188Z",
     "shell.execute_reply": "2023-04-18T07:17:19.160640Z"
    },
    "papermill": {
     "duration": 0.119506,
     "end_time": "2023-04-18T07:17:19.165405",
     "exception": false,
     "start_time": "2023-04-18T07:17:19.045899",
     "status": "completed"
    },
    "tags": []
   },
   "outputs": [],
   "source": [
    "train_dataset_1['Month'] = pd.to_datetime(train_dataset_1['date']).dt.month\n"
   ]
  },
  {
   "cell_type": "code",
   "execution_count": 23,
   "id": "4359eea3",
   "metadata": {
    "execution": {
     "iopub.execute_input": "2023-04-18T07:17:19.208425Z",
     "iopub.status.busy": "2023-04-18T07:17:19.208004Z",
     "iopub.status.idle": "2023-04-18T07:17:19.225980Z",
     "shell.execute_reply": "2023-04-18T07:17:19.224521Z"
    },
    "papermill": {
     "duration": 0.042984,
     "end_time": "2023-04-18T07:17:19.228566",
     "exception": false,
     "start_time": "2023-04-18T07:17:19.185582",
     "status": "completed"
    },
    "scrolled": true,
    "tags": []
   },
   "outputs": [
    {
     "data": {
      "text/html": [
       "<div>\n",
       "<style scoped>\n",
       "    .dataframe tbody tr th:only-of-type {\n",
       "        vertical-align: middle;\n",
       "    }\n",
       "\n",
       "    .dataframe tbody tr th {\n",
       "        vertical-align: top;\n",
       "    }\n",
       "\n",
       "    .dataframe thead th {\n",
       "        text-align: right;\n",
       "    }\n",
       "</style>\n",
       "<table border=\"1\" class=\"dataframe\">\n",
       "  <thead>\n",
       "    <tr style=\"text-align: right;\">\n",
       "      <th></th>\n",
       "      <th>date</th>\n",
       "      <th>product_identifier</th>\n",
       "      <th>department_identifier</th>\n",
       "      <th>outlet</th>\n",
       "      <th>sales</th>\n",
       "      <th>week_id</th>\n",
       "      <th>sell_price</th>\n",
       "      <th>category_of_product_drinks_and_food</th>\n",
       "      <th>category_of_product_fast_moving_consumer_goods</th>\n",
       "      <th>category_of_product_others</th>\n",
       "      <th>state_Kerala</th>\n",
       "      <th>state_Maharashtra</th>\n",
       "      <th>state_Telangana</th>\n",
       "      <th>Month</th>\n",
       "    </tr>\n",
       "  </thead>\n",
       "  <tbody>\n",
       "    <tr>\n",
       "      <th>0</th>\n",
       "      <td>2012-01-01</td>\n",
       "      <td>74</td>\n",
       "      <td>11</td>\n",
       "      <td>111</td>\n",
       "      <td>0</td>\n",
       "      <td>49</td>\n",
       "      <td>2.94</td>\n",
       "      <td>0</td>\n",
       "      <td>0</td>\n",
       "      <td>1</td>\n",
       "      <td>0</td>\n",
       "      <td>1</td>\n",
       "      <td>0</td>\n",
       "      <td>1</td>\n",
       "    </tr>\n",
       "    <tr>\n",
       "      <th>1</th>\n",
       "      <td>2012-01-01</td>\n",
       "      <td>337</td>\n",
       "      <td>11</td>\n",
       "      <td>111</td>\n",
       "      <td>1</td>\n",
       "      <td>49</td>\n",
       "      <td>7.44</td>\n",
       "      <td>0</td>\n",
       "      <td>0</td>\n",
       "      <td>1</td>\n",
       "      <td>0</td>\n",
       "      <td>1</td>\n",
       "      <td>0</td>\n",
       "      <td>1</td>\n",
       "    </tr>\n",
       "    <tr>\n",
       "      <th>2</th>\n",
       "      <td>2012-01-01</td>\n",
       "      <td>423</td>\n",
       "      <td>12</td>\n",
       "      <td>111</td>\n",
       "      <td>0</td>\n",
       "      <td>49</td>\n",
       "      <td>0.97</td>\n",
       "      <td>0</td>\n",
       "      <td>0</td>\n",
       "      <td>1</td>\n",
       "      <td>0</td>\n",
       "      <td>1</td>\n",
       "      <td>0</td>\n",
       "      <td>1</td>\n",
       "    </tr>\n",
       "    <tr>\n",
       "      <th>3</th>\n",
       "      <td>2012-01-01</td>\n",
       "      <td>432</td>\n",
       "      <td>12</td>\n",
       "      <td>111</td>\n",
       "      <td>0</td>\n",
       "      <td>49</td>\n",
       "      <td>4.97</td>\n",
       "      <td>0</td>\n",
       "      <td>0</td>\n",
       "      <td>1</td>\n",
       "      <td>0</td>\n",
       "      <td>1</td>\n",
       "      <td>0</td>\n",
       "      <td>1</td>\n",
       "    </tr>\n",
       "    <tr>\n",
       "      <th>4</th>\n",
       "      <td>2012-01-01</td>\n",
       "      <td>581</td>\n",
       "      <td>21</td>\n",
       "      <td>111</td>\n",
       "      <td>0</td>\n",
       "      <td>49</td>\n",
       "      <td>4.88</td>\n",
       "      <td>0</td>\n",
       "      <td>1</td>\n",
       "      <td>0</td>\n",
       "      <td>0</td>\n",
       "      <td>1</td>\n",
       "      <td>0</td>\n",
       "      <td>1</td>\n",
       "    </tr>\n",
       "  </tbody>\n",
       "</table>\n",
       "</div>"
      ],
      "text/plain": [
       "         date  product_identifier  department_identifier  outlet  sales  \\\n",
       "0  2012-01-01                  74                     11     111      0   \n",
       "1  2012-01-01                 337                     11     111      1   \n",
       "2  2012-01-01                 423                     12     111      0   \n",
       "3  2012-01-01                 432                     12     111      0   \n",
       "4  2012-01-01                 581                     21     111      0   \n",
       "\n",
       "   week_id  sell_price  category_of_product_drinks_and_food  \\\n",
       "0       49        2.94                                    0   \n",
       "1       49        7.44                                    0   \n",
       "2       49        0.97                                    0   \n",
       "3       49        4.97                                    0   \n",
       "4       49        4.88                                    0   \n",
       "\n",
       "   category_of_product_fast_moving_consumer_goods  category_of_product_others  \\\n",
       "0                                               0                           1   \n",
       "1                                               0                           1   \n",
       "2                                               0                           1   \n",
       "3                                               0                           1   \n",
       "4                                               1                           0   \n",
       "\n",
       "   state_Kerala  state_Maharashtra  state_Telangana  Month  \n",
       "0             0                  1                0      1  \n",
       "1             0                  1                0      1  \n",
       "2             0                  1                0      1  \n",
       "3             0                  1                0      1  \n",
       "4             0                  1                0      1  "
      ]
     },
     "execution_count": 23,
     "metadata": {},
     "output_type": "execute_result"
    }
   ],
   "source": [
    "train_dataset_1.head()"
   ]
  },
  {
   "cell_type": "code",
   "execution_count": 24,
   "id": "ee8173e9",
   "metadata": {
    "execution": {
     "iopub.execute_input": "2023-04-18T07:17:19.271181Z",
     "iopub.status.busy": "2023-04-18T07:17:19.270683Z",
     "iopub.status.idle": "2023-04-18T07:17:19.299065Z",
     "shell.execute_reply": "2023-04-18T07:17:19.297691Z"
    },
    "papermill": {
     "duration": 0.052992,
     "end_time": "2023-04-18T07:17:19.302030",
     "exception": false,
     "start_time": "2023-04-18T07:17:19.249038",
     "status": "completed"
    },
    "tags": []
   },
   "outputs": [],
   "source": [
    "train_dataset_1 = train_dataset_1.drop(columns=[\"date\",\"week_id\"])\n"
   ]
  },
  {
   "cell_type": "code",
   "execution_count": 25,
   "id": "927278ba",
   "metadata": {
    "execution": {
     "iopub.execute_input": "2023-04-18T07:17:19.345539Z",
     "iopub.status.busy": "2023-04-18T07:17:19.345050Z",
     "iopub.status.idle": "2023-04-18T07:17:19.367378Z",
     "shell.execute_reply": "2023-04-18T07:17:19.365992Z"
    },
    "papermill": {
     "duration": 0.047834,
     "end_time": "2023-04-18T07:17:19.370596",
     "exception": false,
     "start_time": "2023-04-18T07:17:19.322762",
     "status": "completed"
    },
    "tags": []
   },
   "outputs": [
    {
     "data": {
      "text/html": [
       "<div>\n",
       "<style scoped>\n",
       "    .dataframe tbody tr th:only-of-type {\n",
       "        vertical-align: middle;\n",
       "    }\n",
       "\n",
       "    .dataframe tbody tr th {\n",
       "        vertical-align: top;\n",
       "    }\n",
       "\n",
       "    .dataframe thead th {\n",
       "        text-align: right;\n",
       "    }\n",
       "</style>\n",
       "<table border=\"1\" class=\"dataframe\">\n",
       "  <thead>\n",
       "    <tr style=\"text-align: right;\">\n",
       "      <th></th>\n",
       "      <th>product_identifier</th>\n",
       "      <th>department_identifier</th>\n",
       "      <th>outlet</th>\n",
       "      <th>sales</th>\n",
       "      <th>sell_price</th>\n",
       "      <th>category_of_product_drinks_and_food</th>\n",
       "      <th>category_of_product_fast_moving_consumer_goods</th>\n",
       "      <th>category_of_product_others</th>\n",
       "      <th>state_Kerala</th>\n",
       "      <th>state_Maharashtra</th>\n",
       "      <th>state_Telangana</th>\n",
       "      <th>Month</th>\n",
       "    </tr>\n",
       "  </thead>\n",
       "  <tbody>\n",
       "    <tr>\n",
       "      <th>0</th>\n",
       "      <td>74</td>\n",
       "      <td>11</td>\n",
       "      <td>111</td>\n",
       "      <td>0</td>\n",
       "      <td>2.94</td>\n",
       "      <td>0</td>\n",
       "      <td>0</td>\n",
       "      <td>1</td>\n",
       "      <td>0</td>\n",
       "      <td>1</td>\n",
       "      <td>0</td>\n",
       "      <td>1</td>\n",
       "    </tr>\n",
       "    <tr>\n",
       "      <th>1</th>\n",
       "      <td>337</td>\n",
       "      <td>11</td>\n",
       "      <td>111</td>\n",
       "      <td>1</td>\n",
       "      <td>7.44</td>\n",
       "      <td>0</td>\n",
       "      <td>0</td>\n",
       "      <td>1</td>\n",
       "      <td>0</td>\n",
       "      <td>1</td>\n",
       "      <td>0</td>\n",
       "      <td>1</td>\n",
       "    </tr>\n",
       "    <tr>\n",
       "      <th>2</th>\n",
       "      <td>423</td>\n",
       "      <td>12</td>\n",
       "      <td>111</td>\n",
       "      <td>0</td>\n",
       "      <td>0.97</td>\n",
       "      <td>0</td>\n",
       "      <td>0</td>\n",
       "      <td>1</td>\n",
       "      <td>0</td>\n",
       "      <td>1</td>\n",
       "      <td>0</td>\n",
       "      <td>1</td>\n",
       "    </tr>\n",
       "    <tr>\n",
       "      <th>3</th>\n",
       "      <td>432</td>\n",
       "      <td>12</td>\n",
       "      <td>111</td>\n",
       "      <td>0</td>\n",
       "      <td>4.97</td>\n",
       "      <td>0</td>\n",
       "      <td>0</td>\n",
       "      <td>1</td>\n",
       "      <td>0</td>\n",
       "      <td>1</td>\n",
       "      <td>0</td>\n",
       "      <td>1</td>\n",
       "    </tr>\n",
       "    <tr>\n",
       "      <th>4</th>\n",
       "      <td>581</td>\n",
       "      <td>21</td>\n",
       "      <td>111</td>\n",
       "      <td>0</td>\n",
       "      <td>4.88</td>\n",
       "      <td>0</td>\n",
       "      <td>1</td>\n",
       "      <td>0</td>\n",
       "      <td>0</td>\n",
       "      <td>1</td>\n",
       "      <td>0</td>\n",
       "      <td>1</td>\n",
       "    </tr>\n",
       "    <tr>\n",
       "      <th>...</th>\n",
       "      <td>...</td>\n",
       "      <td>...</td>\n",
       "      <td>...</td>\n",
       "      <td>...</td>\n",
       "      <td>...</td>\n",
       "      <td>...</td>\n",
       "      <td>...</td>\n",
       "      <td>...</td>\n",
       "      <td>...</td>\n",
       "      <td>...</td>\n",
       "      <td>...</td>\n",
       "      <td>...</td>\n",
       "    </tr>\n",
       "    <tr>\n",
       "      <th>394995</th>\n",
       "      <td>2932</td>\n",
       "      <td>33</td>\n",
       "      <td>333</td>\n",
       "      <td>2</td>\n",
       "      <td>2.78</td>\n",
       "      <td>1</td>\n",
       "      <td>0</td>\n",
       "      <td>0</td>\n",
       "      <td>1</td>\n",
       "      <td>0</td>\n",
       "      <td>0</td>\n",
       "      <td>2</td>\n",
       "    </tr>\n",
       "    <tr>\n",
       "      <th>394996</th>\n",
       "      <td>2935</td>\n",
       "      <td>33</td>\n",
       "      <td>333</td>\n",
       "      <td>8</td>\n",
       "      <td>0.20</td>\n",
       "      <td>1</td>\n",
       "      <td>0</td>\n",
       "      <td>0</td>\n",
       "      <td>1</td>\n",
       "      <td>0</td>\n",
       "      <td>0</td>\n",
       "      <td>2</td>\n",
       "    </tr>\n",
       "    <tr>\n",
       "      <th>394997</th>\n",
       "      <td>3004</td>\n",
       "      <td>33</td>\n",
       "      <td>333</td>\n",
       "      <td>0</td>\n",
       "      <td>2.50</td>\n",
       "      <td>1</td>\n",
       "      <td>0</td>\n",
       "      <td>0</td>\n",
       "      <td>1</td>\n",
       "      <td>0</td>\n",
       "      <td>0</td>\n",
       "      <td>2</td>\n",
       "    </tr>\n",
       "    <tr>\n",
       "      <th>394998</th>\n",
       "      <td>3008</td>\n",
       "      <td>33</td>\n",
       "      <td>333</td>\n",
       "      <td>0</td>\n",
       "      <td>1.98</td>\n",
       "      <td>1</td>\n",
       "      <td>0</td>\n",
       "      <td>0</td>\n",
       "      <td>1</td>\n",
       "      <td>0</td>\n",
       "      <td>0</td>\n",
       "      <td>2</td>\n",
       "    </tr>\n",
       "    <tr>\n",
       "      <th>394999</th>\n",
       "      <td>3021</td>\n",
       "      <td>33</td>\n",
       "      <td>333</td>\n",
       "      <td>0</td>\n",
       "      <td>2.08</td>\n",
       "      <td>1</td>\n",
       "      <td>0</td>\n",
       "      <td>0</td>\n",
       "      <td>1</td>\n",
       "      <td>0</td>\n",
       "      <td>0</td>\n",
       "      <td>2</td>\n",
       "    </tr>\n",
       "  </tbody>\n",
       "</table>\n",
       "<p>395000 rows × 12 columns</p>\n",
       "</div>"
      ],
      "text/plain": [
       "        product_identifier  department_identifier  outlet  sales  sell_price  \\\n",
       "0                       74                     11     111      0        2.94   \n",
       "1                      337                     11     111      1        7.44   \n",
       "2                      423                     12     111      0        0.97   \n",
       "3                      432                     12     111      0        4.97   \n",
       "4                      581                     21     111      0        4.88   \n",
       "...                    ...                    ...     ...    ...         ...   \n",
       "394995                2932                     33     333      2        2.78   \n",
       "394996                2935                     33     333      8        0.20   \n",
       "394997                3004                     33     333      0        2.50   \n",
       "394998                3008                     33     333      0        1.98   \n",
       "394999                3021                     33     333      0        2.08   \n",
       "\n",
       "        category_of_product_drinks_and_food  \\\n",
       "0                                         0   \n",
       "1                                         0   \n",
       "2                                         0   \n",
       "3                                         0   \n",
       "4                                         0   \n",
       "...                                     ...   \n",
       "394995                                    1   \n",
       "394996                                    1   \n",
       "394997                                    1   \n",
       "394998                                    1   \n",
       "394999                                    1   \n",
       "\n",
       "        category_of_product_fast_moving_consumer_goods  \\\n",
       "0                                                    0   \n",
       "1                                                    0   \n",
       "2                                                    0   \n",
       "3                                                    0   \n",
       "4                                                    1   \n",
       "...                                                ...   \n",
       "394995                                               0   \n",
       "394996                                               0   \n",
       "394997                                               0   \n",
       "394998                                               0   \n",
       "394999                                               0   \n",
       "\n",
       "        category_of_product_others  state_Kerala  state_Maharashtra  \\\n",
       "0                                1             0                  1   \n",
       "1                                1             0                  1   \n",
       "2                                1             0                  1   \n",
       "3                                1             0                  1   \n",
       "4                                0             0                  1   \n",
       "...                            ...           ...                ...   \n",
       "394995                           0             1                  0   \n",
       "394996                           0             1                  0   \n",
       "394997                           0             1                  0   \n",
       "394998                           0             1                  0   \n",
       "394999                           0             1                  0   \n",
       "\n",
       "        state_Telangana  Month  \n",
       "0                     0      1  \n",
       "1                     0      1  \n",
       "2                     0      1  \n",
       "3                     0      1  \n",
       "4                     0      1  \n",
       "...                 ...    ...  \n",
       "394995                0      2  \n",
       "394996                0      2  \n",
       "394997                0      2  \n",
       "394998                0      2  \n",
       "394999                0      2  \n",
       "\n",
       "[395000 rows x 12 columns]"
      ]
     },
     "execution_count": 25,
     "metadata": {},
     "output_type": "execute_result"
    }
   ],
   "source": [
    "train_dataset_1"
   ]
  },
  {
   "cell_type": "code",
   "execution_count": 26,
   "id": "5a809cfc",
   "metadata": {
    "execution": {
     "iopub.execute_input": "2023-04-18T07:17:19.415250Z",
     "iopub.status.busy": "2023-04-18T07:17:19.414827Z",
     "iopub.status.idle": "2023-04-18T07:17:19.426614Z",
     "shell.execute_reply": "2023-04-18T07:17:19.425291Z"
    },
    "papermill": {
     "duration": 0.037524,
     "end_time": "2023-04-18T07:17:19.429712",
     "exception": false,
     "start_time": "2023-04-18T07:17:19.392188",
     "status": "completed"
    },
    "tags": []
   },
   "outputs": [
    {
     "data": {
      "text/plain": [
       "array([  0,   1,   3,   2,   9,   5,   8,  18,  12,  28,   4,   6,  27,\n",
       "         7,  10,  47,  13,  11,  32,  23,  14,  16,  19,  33,  17,  26,\n",
       "        20,  87,  35,  54,  22,  15,  36,  31,  21,  25,  34,  43,  53,\n",
       "        38,  30,  85,  57, 100,  52,  24,  29,  58,  63,  37,  42,  45,\n",
       "        39,  72,  40,  80,  98,  56,  70,  50,  86,  46,  51,  66,  41,\n",
       "        64,  81,  79,  82,  69,  48,  94,  44,  60,  68,  49,  77,  61,\n",
       "        76, 119,  92,  93,  62, 124,  59,  74,  73, 174,  96,  71, 132,\n",
       "       101,  55,  78,  75,  65, 105, 120, 150, 173,  67,  83,  95, 170,\n",
       "       116,  90, 108, 139,  84, 293,  88, 241, 102,  97, 156, 114, 126,\n",
       "       109, 118, 111,  99, 171, 242, 121, 215,  89])"
      ]
     },
     "execution_count": 26,
     "metadata": {},
     "output_type": "execute_result"
    }
   ],
   "source": [
    "train_dataset_1['sales'].unique()"
   ]
  },
  {
   "cell_type": "code",
   "execution_count": 27,
   "id": "01df1966",
   "metadata": {
    "execution": {
     "iopub.execute_input": "2023-04-18T07:17:19.474123Z",
     "iopub.status.busy": "2023-04-18T07:17:19.473692Z",
     "iopub.status.idle": "2023-04-18T07:17:19.484498Z",
     "shell.execute_reply": "2023-04-18T07:17:19.483243Z"
    },
    "papermill": {
     "duration": 0.035944,
     "end_time": "2023-04-18T07:17:19.487054",
     "exception": false,
     "start_time": "2023-04-18T07:17:19.451110",
     "status": "completed"
    },
    "tags": []
   },
   "outputs": [
    {
     "data": {
      "text/plain": [
       "array([111, 112, 113, 114, 221, 222, 223, 331, 332, 333])"
      ]
     },
     "execution_count": 27,
     "metadata": {},
     "output_type": "execute_result"
    }
   ],
   "source": [
    "train_dataset_1['outlet'].unique()"
   ]
  },
  {
   "cell_type": "code",
   "execution_count": 28,
   "id": "4c2fb62f",
   "metadata": {
    "execution": {
     "iopub.execute_input": "2023-04-18T07:17:19.530747Z",
     "iopub.status.busy": "2023-04-18T07:17:19.530287Z",
     "iopub.status.idle": "2023-04-18T07:17:19.537161Z",
     "shell.execute_reply": "2023-04-18T07:17:19.536244Z"
    },
    "papermill": {
     "duration": 0.031588,
     "end_time": "2023-04-18T07:17:19.539368",
     "exception": false,
     "start_time": "2023-04-18T07:17:19.507780",
     "status": "completed"
    },
    "tags": []
   },
   "outputs": [
    {
     "data": {
      "text/plain": [
       "(395000, 12)"
      ]
     },
     "execution_count": 28,
     "metadata": {},
     "output_type": "execute_result"
    }
   ],
   "source": [
    "train_dataset_1.shape"
   ]
  },
  {
   "cell_type": "code",
   "execution_count": 29,
   "id": "c3ac2258",
   "metadata": {
    "execution": {
     "iopub.execute_input": "2023-04-18T07:17:19.583713Z",
     "iopub.status.busy": "2023-04-18T07:17:19.582608Z",
     "iopub.status.idle": "2023-04-18T07:17:19.602891Z",
     "shell.execute_reply": "2023-04-18T07:17:19.601482Z"
    },
    "papermill": {
     "duration": 0.045454,
     "end_time": "2023-04-18T07:17:19.605681",
     "exception": false,
     "start_time": "2023-04-18T07:17:19.560227",
     "status": "completed"
    },
    "tags": []
   },
   "outputs": [
    {
     "data": {
      "text/plain": [
       "product_identifier                                0\n",
       "department_identifier                             0\n",
       "outlet                                            0\n",
       "sales                                             0\n",
       "sell_price                                        0\n",
       "category_of_product_drinks_and_food               0\n",
       "category_of_product_fast_moving_consumer_goods    0\n",
       "category_of_product_others                        0\n",
       "state_Kerala                                      0\n",
       "state_Maharashtra                                 0\n",
       "state_Telangana                                   0\n",
       "Month                                             0\n",
       "dtype: int64"
      ]
     },
     "execution_count": 29,
     "metadata": {},
     "output_type": "execute_result"
    }
   ],
   "source": [
    "train_dataset_1.isnull().sum()"
   ]
  },
  {
   "cell_type": "code",
   "execution_count": 30,
   "id": "828527b7",
   "metadata": {
    "execution": {
     "iopub.execute_input": "2023-04-18T07:17:19.650230Z",
     "iopub.status.busy": "2023-04-18T07:17:19.649831Z",
     "iopub.status.idle": "2023-04-18T07:17:19.659436Z",
     "shell.execute_reply": "2023-04-18T07:17:19.657961Z"
    },
    "papermill": {
     "duration": 0.035206,
     "end_time": "2023-04-18T07:17:19.662052",
     "exception": false,
     "start_time": "2023-04-18T07:17:19.626846",
     "status": "completed"
    },
    "tags": []
   },
   "outputs": [
    {
     "data": {
      "text/plain": [
       "product_identifier                                  int64\n",
       "department_identifier                               int64\n",
       "outlet                                              int64\n",
       "sales                                               int64\n",
       "sell_price                                        float64\n",
       "category_of_product_drinks_and_food                 uint8\n",
       "category_of_product_fast_moving_consumer_goods      uint8\n",
       "category_of_product_others                          uint8\n",
       "state_Kerala                                        uint8\n",
       "state_Maharashtra                                   uint8\n",
       "state_Telangana                                     uint8\n",
       "Month                                               int64\n",
       "dtype: object"
      ]
     },
     "execution_count": 30,
     "metadata": {},
     "output_type": "execute_result"
    }
   ],
   "source": [
    "train_dataset_1.dtypes"
   ]
  },
  {
   "cell_type": "code",
   "execution_count": 31,
   "id": "dab39389",
   "metadata": {
    "execution": {
     "iopub.execute_input": "2023-04-18T07:17:19.706219Z",
     "iopub.status.busy": "2023-04-18T07:17:19.705815Z",
     "iopub.status.idle": "2023-04-18T07:17:20.217570Z",
     "shell.execute_reply": "2023-04-18T07:17:20.215803Z"
    },
    "papermill": {
     "duration": 0.537808,
     "end_time": "2023-04-18T07:17:20.220892",
     "exception": false,
     "start_time": "2023-04-18T07:17:19.683084",
     "status": "completed"
    },
    "tags": []
   },
   "outputs": [],
   "source": [
    "from sklearn.model_selection import train_test_split\n",
    "from sklearn import datasets, linear_model, metrics\n",
    "from sklearn.metrics import r2_score"
   ]
  },
  {
   "cell_type": "code",
   "execution_count": 32,
   "id": "4272db57",
   "metadata": {
    "execution": {
     "iopub.execute_input": "2023-04-18T07:17:20.266453Z",
     "iopub.status.busy": "2023-04-18T07:17:20.265197Z",
     "iopub.status.idle": "2023-04-18T07:17:20.290094Z",
     "shell.execute_reply": "2023-04-18T07:17:20.288596Z"
    },
    "papermill": {
     "duration": 0.051139,
     "end_time": "2023-04-18T07:17:20.293215",
     "exception": false,
     "start_time": "2023-04-18T07:17:20.242076",
     "status": "completed"
    },
    "tags": []
   },
   "outputs": [],
   "source": [
    "train_dataset_1 = train_dataset_1.drop(['sales'],axis=1)"
   ]
  },
  {
   "cell_type": "code",
   "execution_count": 33,
   "id": "35178bc5",
   "metadata": {
    "execution": {
     "iopub.execute_input": "2023-04-18T07:17:20.339516Z",
     "iopub.status.busy": "2023-04-18T07:17:20.339043Z",
     "iopub.status.idle": "2023-04-18T07:17:20.355539Z",
     "shell.execute_reply": "2023-04-18T07:17:20.354155Z"
    },
    "papermill": {
     "duration": 0.042482,
     "end_time": "2023-04-18T07:17:20.358575",
     "exception": false,
     "start_time": "2023-04-18T07:17:20.316093",
     "status": "completed"
    },
    "tags": []
   },
   "outputs": [
    {
     "data": {
      "text/html": [
       "<div>\n",
       "<style scoped>\n",
       "    .dataframe tbody tr th:only-of-type {\n",
       "        vertical-align: middle;\n",
       "    }\n",
       "\n",
       "    .dataframe tbody tr th {\n",
       "        vertical-align: top;\n",
       "    }\n",
       "\n",
       "    .dataframe thead th {\n",
       "        text-align: right;\n",
       "    }\n",
       "</style>\n",
       "<table border=\"1\" class=\"dataframe\">\n",
       "  <thead>\n",
       "    <tr style=\"text-align: right;\">\n",
       "      <th></th>\n",
       "      <th>product_identifier</th>\n",
       "      <th>department_identifier</th>\n",
       "      <th>outlet</th>\n",
       "      <th>sell_price</th>\n",
       "      <th>category_of_product_drinks_and_food</th>\n",
       "      <th>category_of_product_fast_moving_consumer_goods</th>\n",
       "      <th>category_of_product_others</th>\n",
       "      <th>state_Kerala</th>\n",
       "      <th>state_Maharashtra</th>\n",
       "      <th>state_Telangana</th>\n",
       "      <th>Month</th>\n",
       "    </tr>\n",
       "  </thead>\n",
       "  <tbody>\n",
       "    <tr>\n",
       "      <th>0</th>\n",
       "      <td>74</td>\n",
       "      <td>11</td>\n",
       "      <td>111</td>\n",
       "      <td>2.94</td>\n",
       "      <td>0</td>\n",
       "      <td>0</td>\n",
       "      <td>1</td>\n",
       "      <td>0</td>\n",
       "      <td>1</td>\n",
       "      <td>0</td>\n",
       "      <td>1</td>\n",
       "    </tr>\n",
       "    <tr>\n",
       "      <th>1</th>\n",
       "      <td>337</td>\n",
       "      <td>11</td>\n",
       "      <td>111</td>\n",
       "      <td>7.44</td>\n",
       "      <td>0</td>\n",
       "      <td>0</td>\n",
       "      <td>1</td>\n",
       "      <td>0</td>\n",
       "      <td>1</td>\n",
       "      <td>0</td>\n",
       "      <td>1</td>\n",
       "    </tr>\n",
       "    <tr>\n",
       "      <th>2</th>\n",
       "      <td>423</td>\n",
       "      <td>12</td>\n",
       "      <td>111</td>\n",
       "      <td>0.97</td>\n",
       "      <td>0</td>\n",
       "      <td>0</td>\n",
       "      <td>1</td>\n",
       "      <td>0</td>\n",
       "      <td>1</td>\n",
       "      <td>0</td>\n",
       "      <td>1</td>\n",
       "    </tr>\n",
       "    <tr>\n",
       "      <th>3</th>\n",
       "      <td>432</td>\n",
       "      <td>12</td>\n",
       "      <td>111</td>\n",
       "      <td>4.97</td>\n",
       "      <td>0</td>\n",
       "      <td>0</td>\n",
       "      <td>1</td>\n",
       "      <td>0</td>\n",
       "      <td>1</td>\n",
       "      <td>0</td>\n",
       "      <td>1</td>\n",
       "    </tr>\n",
       "    <tr>\n",
       "      <th>4</th>\n",
       "      <td>581</td>\n",
       "      <td>21</td>\n",
       "      <td>111</td>\n",
       "      <td>4.88</td>\n",
       "      <td>0</td>\n",
       "      <td>1</td>\n",
       "      <td>0</td>\n",
       "      <td>0</td>\n",
       "      <td>1</td>\n",
       "      <td>0</td>\n",
       "      <td>1</td>\n",
       "    </tr>\n",
       "  </tbody>\n",
       "</table>\n",
       "</div>"
      ],
      "text/plain": [
       "   product_identifier  department_identifier  outlet  sell_price  \\\n",
       "0                  74                     11     111        2.94   \n",
       "1                 337                     11     111        7.44   \n",
       "2                 423                     12     111        0.97   \n",
       "3                 432                     12     111        4.97   \n",
       "4                 581                     21     111        4.88   \n",
       "\n",
       "   category_of_product_drinks_and_food  \\\n",
       "0                                    0   \n",
       "1                                    0   \n",
       "2                                    0   \n",
       "3                                    0   \n",
       "4                                    0   \n",
       "\n",
       "   category_of_product_fast_moving_consumer_goods  category_of_product_others  \\\n",
       "0                                               0                           1   \n",
       "1                                               0                           1   \n",
       "2                                               0                           1   \n",
       "3                                               0                           1   \n",
       "4                                               1                           0   \n",
       "\n",
       "   state_Kerala  state_Maharashtra  state_Telangana  Month  \n",
       "0             0                  1                0      1  \n",
       "1             0                  1                0      1  \n",
       "2             0                  1                0      1  \n",
       "3             0                  1                0      1  \n",
       "4             0                  1                0      1  "
      ]
     },
     "execution_count": 33,
     "metadata": {},
     "output_type": "execute_result"
    }
   ],
   "source": [
    "train_dataset_1.head()"
   ]
  },
  {
   "cell_type": "code",
   "execution_count": 34,
   "id": "6d4ddbd2",
   "metadata": {
    "execution": {
     "iopub.execute_input": "2023-04-18T07:17:20.403562Z",
     "iopub.status.busy": "2023-04-18T07:17:20.403105Z",
     "iopub.status.idle": "2023-04-18T07:17:20.408727Z",
     "shell.execute_reply": "2023-04-18T07:17:20.407484Z"
    },
    "papermill": {
     "duration": 0.031277,
     "end_time": "2023-04-18T07:17:20.411229",
     "exception": false,
     "start_time": "2023-04-18T07:17:20.379952",
     "status": "completed"
    },
    "tags": []
   },
   "outputs": [],
   "source": [
    "y = train_dataset.sales"
   ]
  },
  {
   "cell_type": "code",
   "execution_count": 35,
   "id": "3acef405",
   "metadata": {
    "execution": {
     "iopub.execute_input": "2023-04-18T07:17:20.456296Z",
     "iopub.status.busy": "2023-04-18T07:17:20.455885Z",
     "iopub.status.idle": "2023-04-18T07:17:20.464323Z",
     "shell.execute_reply": "2023-04-18T07:17:20.462936Z"
    },
    "papermill": {
     "duration": 0.033882,
     "end_time": "2023-04-18T07:17:20.466734",
     "exception": false,
     "start_time": "2023-04-18T07:17:20.432852",
     "status": "completed"
    },
    "tags": []
   },
   "outputs": [
    {
     "data": {
      "text/plain": [
       "0         0\n",
       "1         1\n",
       "2         0\n",
       "3         0\n",
       "4         0\n",
       "         ..\n",
       "394995    2\n",
       "394996    8\n",
       "394997    0\n",
       "394998    0\n",
       "394999    0\n",
       "Name: sales, Length: 395000, dtype: int64"
      ]
     },
     "execution_count": 35,
     "metadata": {},
     "output_type": "execute_result"
    }
   ],
   "source": [
    "y"
   ]
  },
  {
   "cell_type": "code",
   "execution_count": 36,
   "id": "4b4b8ad1",
   "metadata": {
    "execution": {
     "iopub.execute_input": "2023-04-18T07:17:20.512168Z",
     "iopub.status.busy": "2023-04-18T07:17:20.511013Z",
     "iopub.status.idle": "2023-04-18T07:17:20.587143Z",
     "shell.execute_reply": "2023-04-18T07:17:20.585583Z"
    },
    "papermill": {
     "duration": 0.102078,
     "end_time": "2023-04-18T07:17:20.590172",
     "exception": false,
     "start_time": "2023-04-18T07:17:20.488094",
     "status": "completed"
    },
    "tags": []
   },
   "outputs": [],
   "source": [
    "X_train, X_validation, y_train, y_validation = train_test_split(train_dataset_1,y, test_size=0.3,random_state=42)"
   ]
  },
  {
   "cell_type": "code",
   "execution_count": 37,
   "id": "847954ce",
   "metadata": {
    "execution": {
     "iopub.execute_input": "2023-04-18T07:17:20.636696Z",
     "iopub.status.busy": "2023-04-18T07:17:20.636215Z",
     "iopub.status.idle": "2023-04-18T07:17:20.643405Z",
     "shell.execute_reply": "2023-04-18T07:17:20.641953Z"
    },
    "papermill": {
     "duration": 0.034476,
     "end_time": "2023-04-18T07:17:20.646317",
     "exception": false,
     "start_time": "2023-04-18T07:17:20.611841",
     "status": "completed"
    },
    "tags": []
   },
   "outputs": [
    {
     "name": "stdout",
     "output_type": "stream",
     "text": [
      "(276500, 11)\n",
      "(118500, 11)\n",
      "(276500,)\n",
      "(118500,)\n"
     ]
    }
   ],
   "source": [
    "print(X_train.shape)\n",
    "print(X_validation.shape)\n",
    "print(y_train.shape)\n",
    "print(y_validation.shape)"
   ]
  },
  {
   "cell_type": "code",
   "execution_count": 38,
   "id": "60b4843f",
   "metadata": {
    "execution": {
     "iopub.execute_input": "2023-04-18T07:17:20.691187Z",
     "iopub.status.busy": "2023-04-18T07:17:20.690768Z",
     "iopub.status.idle": "2023-04-18T07:17:20.696435Z",
     "shell.execute_reply": "2023-04-18T07:17:20.695133Z"
    },
    "papermill": {
     "duration": 0.030958,
     "end_time": "2023-04-18T07:17:20.698969",
     "exception": false,
     "start_time": "2023-04-18T07:17:20.668011",
     "status": "completed"
    },
    "tags": []
   },
   "outputs": [],
   "source": [
    "reg = linear_model.LinearRegression()"
   ]
  },
  {
   "cell_type": "code",
   "execution_count": 39,
   "id": "79ce7484",
   "metadata": {
    "execution": {
     "iopub.execute_input": "2023-04-18T07:17:20.744698Z",
     "iopub.status.busy": "2023-04-18T07:17:20.744215Z",
     "iopub.status.idle": "2023-04-18T07:17:20.888318Z",
     "shell.execute_reply": "2023-04-18T07:17:20.886430Z"
    },
    "papermill": {
     "duration": 0.174094,
     "end_time": "2023-04-18T07:17:20.894398",
     "exception": false,
     "start_time": "2023-04-18T07:17:20.720304",
     "status": "completed"
    },
    "tags": []
   },
   "outputs": [],
   "source": [
    "lm_model = reg.fit(X_train, y_train)"
   ]
  },
  {
   "cell_type": "code",
   "execution_count": 40,
   "id": "e23cde18",
   "metadata": {
    "execution": {
     "iopub.execute_input": "2023-04-18T07:17:20.982009Z",
     "iopub.status.busy": "2023-04-18T07:17:20.981536Z",
     "iopub.status.idle": "2023-04-18T07:17:20.990416Z",
     "shell.execute_reply": "2023-04-18T07:17:20.988860Z"
    },
    "papermill": {
     "duration": 0.038936,
     "end_time": "2023-04-18T07:17:20.992929",
     "exception": false,
     "start_time": "2023-04-18T07:17:20.953993",
     "status": "completed"
    },
    "tags": []
   },
   "outputs": [
    {
     "name": "stdout",
     "output_type": "stream",
     "text": [
      "Intercept   : 23.364723655188477\n",
      "\n",
      " ****************************************************************************************************\n",
      "Shape of Coefficients: \n",
      " (11,)\n",
      "\n",
      " ****************************************************************************************************\n",
      "Coefficients: \n",
      " [ 8.90380659e-04 -8.13410365e-01 -2.29138764e-02 -1.12424155e-01\n",
      "  8.50076245e+00 -3.74216640e-01 -8.12654581e+00  2.48778153e+00\n",
      " -2.37361235e+00 -1.14169188e-01  5.05269162e-03]\n"
     ]
    }
   ],
   "source": [
    "print('Intercept   :', lm_model.intercept_)\n",
    "print('\\n','*'*100)\n",
    "print('Shape of Coefficients: \\n', lm_model.coef_.shape)\n",
    "print('\\n','*'*100)\n",
    "print('Coefficients: \\n', lm_model.coef_)"
   ]
  },
  {
   "cell_type": "code",
   "execution_count": 41,
   "id": "f6a6e78e",
   "metadata": {
    "execution": {
     "iopub.execute_input": "2023-04-18T07:17:21.039898Z",
     "iopub.status.busy": "2023-04-18T07:17:21.038437Z",
     "iopub.status.idle": "2023-04-18T07:17:21.064509Z",
     "shell.execute_reply": "2023-04-18T07:17:21.062579Z"
    },
    "papermill": {
     "duration": 0.054791,
     "end_time": "2023-04-18T07:17:21.069666",
     "exception": false,
     "start_time": "2023-04-18T07:17:21.014875",
     "status": "completed"
    },
    "tags": []
   },
   "outputs": [
    {
     "name": "stdout",
     "output_type": "stream",
     "text": [
      "R^2 is: \n",
      " 0.07061070913063383\n"
     ]
    }
   ],
   "source": [
    "print (\"R^2 is: \\n\", lm_model.score(X_train, y_train))"
   ]
  },
  {
   "cell_type": "code",
   "execution_count": 42,
   "id": "7d7531d3",
   "metadata": {
    "execution": {
     "iopub.execute_input": "2023-04-18T07:17:21.181549Z",
     "iopub.status.busy": "2023-04-18T07:17:21.181029Z",
     "iopub.status.idle": "2023-04-18T07:17:21.538142Z",
     "shell.execute_reply": "2023-04-18T07:17:21.536848Z"
    },
    "papermill": {
     "duration": 0.412573,
     "end_time": "2023-04-18T07:17:21.541024",
     "exception": false,
     "start_time": "2023-04-18T07:17:21.128451",
     "status": "completed"
    },
    "tags": []
   },
   "outputs": [],
   "source": [
    "from sklearn.ensemble import RandomForestRegressor"
   ]
  },
  {
   "cell_type": "code",
   "execution_count": 43,
   "id": "f99b5b0c",
   "metadata": {
    "execution": {
     "iopub.execute_input": "2023-04-18T07:17:21.587725Z",
     "iopub.status.busy": "2023-04-18T07:17:21.586909Z",
     "iopub.status.idle": "2023-04-18T07:17:21.592697Z",
     "shell.execute_reply": "2023-04-18T07:17:21.591498Z"
    },
    "papermill": {
     "duration": 0.032603,
     "end_time": "2023-04-18T07:17:21.595842",
     "exception": false,
     "start_time": "2023-04-18T07:17:21.563239",
     "status": "completed"
    },
    "tags": []
   },
   "outputs": [],
   "source": [
    "rfr = RandomForestRegressor(n_estimators=10, max_depth=10,random_state=42)"
   ]
  },
  {
   "cell_type": "code",
   "execution_count": 44,
   "id": "ea3d4b80",
   "metadata": {
    "execution": {
     "iopub.execute_input": "2023-04-18T07:17:21.641364Z",
     "iopub.status.busy": "2023-04-18T07:17:21.640691Z",
     "iopub.status.idle": "2023-04-18T07:17:25.939552Z",
     "shell.execute_reply": "2023-04-18T07:17:25.938558Z"
    },
    "papermill": {
     "duration": 4.324607,
     "end_time": "2023-04-18T07:17:25.942061",
     "exception": false,
     "start_time": "2023-04-18T07:17:21.617454",
     "status": "completed"
    },
    "tags": []
   },
   "outputs": [
    {
     "data": {
      "text/plain": [
       "RandomForestRegressor(max_depth=10, n_estimators=10, random_state=42)"
      ]
     },
     "execution_count": 44,
     "metadata": {},
     "output_type": "execute_result"
    }
   ],
   "source": [
    "rfr.fit(X_train,y_train)"
   ]
  },
  {
   "cell_type": "code",
   "execution_count": 45,
   "id": "b1697f3b",
   "metadata": {
    "execution": {
     "iopub.execute_input": "2023-04-18T07:17:25.988954Z",
     "iopub.status.busy": "2023-04-18T07:17:25.988077Z",
     "iopub.status.idle": "2023-04-18T07:17:25.993231Z",
     "shell.execute_reply": "2023-04-18T07:17:25.992200Z"
    },
    "papermill": {
     "duration": 0.031162,
     "end_time": "2023-04-18T07:17:25.995716",
     "exception": false,
     "start_time": "2023-04-18T07:17:25.964554",
     "status": "completed"
    },
    "tags": []
   },
   "outputs": [],
   "source": [
    "from sklearn.metrics import mean_squared_error, r2_score\n"
   ]
  },
  {
   "cell_type": "code",
   "execution_count": 46,
   "id": "a06be6f1",
   "metadata": {
    "execution": {
     "iopub.execute_input": "2023-04-18T07:17:26.043160Z",
     "iopub.status.busy": "2023-04-18T07:17:26.042142Z",
     "iopub.status.idle": "2023-04-18T07:17:26.395232Z",
     "shell.execute_reply": "2023-04-18T07:17:26.393582Z"
    },
    "papermill": {
     "duration": 0.379438,
     "end_time": "2023-04-18T07:17:26.398121",
     "exception": false,
     "start_time": "2023-04-18T07:17:26.018683",
     "status": "completed"
    },
    "tags": []
   },
   "outputs": [
    {
     "name": "stdout",
     "output_type": "stream",
     "text": [
      "Train Accuracy.:  0.3793893436109993\n",
      "Test Accuracy.:  0.3594414208094403\n"
     ]
    }
   ],
   "source": [
    "model_score = rfr.score(X_train,y_train)\n",
    "model_score1 = rfr.score(X_validation,y_validation)\n",
    "# Explained variance score: 1 is perfect prediction\n",
    "print('Train Accuracy.: ',model_score)\n",
    "print('Test Accuracy.: ',model_score1)"
   ]
  },
  {
   "cell_type": "code",
   "execution_count": 47,
   "id": "28ece11f",
   "metadata": {
    "execution": {
     "iopub.execute_input": "2023-04-18T07:17:26.444315Z",
     "iopub.status.busy": "2023-04-18T07:17:26.443852Z",
     "iopub.status.idle": "2023-04-18T07:17:26.449720Z",
     "shell.execute_reply": "2023-04-18T07:17:26.448263Z"
    },
    "papermill": {
     "duration": 0.031899,
     "end_time": "2023-04-18T07:17:26.452103",
     "exception": false,
     "start_time": "2023-04-18T07:17:26.420204",
     "status": "completed"
    },
    "tags": []
   },
   "outputs": [],
   "source": [
    "import math  \n",
    "import sklearn.metrics  "
   ]
  },
  {
   "cell_type": "code",
   "execution_count": 48,
   "id": "cd313a00",
   "metadata": {
    "execution": {
     "iopub.execute_input": "2023-04-18T07:17:26.498792Z",
     "iopub.status.busy": "2023-04-18T07:17:26.498000Z",
     "iopub.status.idle": "2023-04-18T07:17:26.837410Z",
     "shell.execute_reply": "2023-04-18T07:17:26.835963Z"
    },
    "papermill": {
     "duration": 0.366492,
     "end_time": "2023-04-18T07:17:26.840789",
     "exception": false,
     "start_time": "2023-04-18T07:17:26.474297",
     "status": "completed"
    },
    "tags": []
   },
   "outputs": [],
   "source": [
    "rfr_train_pred = rfr.predict(X_train)\n",
    "rfr_validation_pred = rfr.predict(X_validation)"
   ]
  },
  {
   "cell_type": "code",
   "execution_count": 49,
   "id": "f7766640",
   "metadata": {
    "execution": {
     "iopub.execute_input": "2023-04-18T07:17:26.886765Z",
     "iopub.status.busy": "2023-04-18T07:17:26.886012Z",
     "iopub.status.idle": "2023-04-18T07:17:26.894062Z",
     "shell.execute_reply": "2023-04-18T07:17:26.893003Z"
    },
    "papermill": {
     "duration": 0.034314,
     "end_time": "2023-04-18T07:17:26.896865",
     "exception": false,
     "start_time": "2023-04-18T07:17:26.862551",
     "status": "completed"
    },
    "tags": []
   },
   "outputs": [],
   "source": [
    "mse = sklearn.metrics.mean_squared_error(y_train, rfr_train_pred)  \n",
    "  \n",
    "rmse = math.sqrt(mse)  "
   ]
  },
  {
   "cell_type": "code",
   "execution_count": 50,
   "id": "affa56d7",
   "metadata": {
    "execution": {
     "iopub.execute_input": "2023-04-18T07:17:26.944088Z",
     "iopub.status.busy": "2023-04-18T07:17:26.943106Z",
     "iopub.status.idle": "2023-04-18T07:17:26.950290Z",
     "shell.execute_reply": "2023-04-18T07:17:26.948802Z"
    },
    "papermill": {
     "duration": 0.034554,
     "end_time": "2023-04-18T07:17:26.953709",
     "exception": false,
     "start_time": "2023-04-18T07:17:26.919155",
     "status": "completed"
    },
    "tags": []
   },
   "outputs": [
    {
     "name": "stdout",
     "output_type": "stream",
     "text": [
      "7.918885458620351\n",
      "2.8140514314099434\n"
     ]
    }
   ],
   "source": [
    "print(mse)\n",
    "print(rmse)"
   ]
  },
  {
   "cell_type": "code",
   "execution_count": 51,
   "id": "9deec44d",
   "metadata": {
    "execution": {
     "iopub.execute_input": "2023-04-18T07:17:27.000241Z",
     "iopub.status.busy": "2023-04-18T07:17:26.999828Z",
     "iopub.status.idle": "2023-04-18T07:17:27.006217Z",
     "shell.execute_reply": "2023-04-18T07:17:27.005000Z"
    },
    "papermill": {
     "duration": 0.032611,
     "end_time": "2023-04-18T07:17:27.008692",
     "exception": false,
     "start_time": "2023-04-18T07:17:26.976081",
     "status": "completed"
    },
    "tags": []
   },
   "outputs": [],
   "source": [
    "mse_valid = sklearn.metrics.mean_squared_error(y_validation, rfr_validation_pred) \n",
    "rmse_valid = math.sqrt(mse_valid)  "
   ]
  },
  {
   "cell_type": "code",
   "execution_count": 52,
   "id": "e337eeb9",
   "metadata": {
    "execution": {
     "iopub.execute_input": "2023-04-18T07:17:27.055925Z",
     "iopub.status.busy": "2023-04-18T07:17:27.054507Z",
     "iopub.status.idle": "2023-04-18T07:17:27.061089Z",
     "shell.execute_reply": "2023-04-18T07:17:27.059703Z"
    },
    "papermill": {
     "duration": 0.032683,
     "end_time": "2023-04-18T07:17:27.063390",
     "exception": false,
     "start_time": "2023-04-18T07:17:27.030707",
     "status": "completed"
    },
    "tags": []
   },
   "outputs": [
    {
     "name": "stdout",
     "output_type": "stream",
     "text": [
      "8.528010861564695\n",
      "2.920275819432934\n"
     ]
    }
   ],
   "source": [
    "print(mse_valid)\n",
    "print(rmse_valid)"
   ]
  },
  {
   "cell_type": "code",
   "execution_count": 53,
   "id": "567bd4a3",
   "metadata": {
    "execution": {
     "iopub.execute_input": "2023-04-18T07:17:27.110612Z",
     "iopub.status.busy": "2023-04-18T07:17:27.109742Z",
     "iopub.status.idle": "2023-04-18T07:17:27.115433Z",
     "shell.execute_reply": "2023-04-18T07:17:27.113972Z"
    },
    "papermill": {
     "duration": 0.032682,
     "end_time": "2023-04-18T07:17:27.118630",
     "exception": false,
     "start_time": "2023-04-18T07:17:27.085948",
     "status": "completed"
    },
    "tags": []
   },
   "outputs": [],
   "source": [
    "from sklearn.tree import DecisionTreeRegressor"
   ]
  },
  {
   "cell_type": "code",
   "execution_count": 54,
   "id": "d566f183",
   "metadata": {
    "execution": {
     "iopub.execute_input": "2023-04-18T07:17:27.165167Z",
     "iopub.status.busy": "2023-04-18T07:17:27.164695Z",
     "iopub.status.idle": "2023-04-18T07:17:28.191172Z",
     "shell.execute_reply": "2023-04-18T07:17:28.189807Z"
    },
    "papermill": {
     "duration": 1.053327,
     "end_time": "2023-04-18T07:17:28.194248",
     "exception": false,
     "start_time": "2023-04-18T07:17:27.140921",
     "status": "completed"
    },
    "tags": []
   },
   "outputs": [
    {
     "data": {
      "text/plain": [
       "DecisionTreeRegressor(random_state=42)"
      ]
     },
     "execution_count": 54,
     "metadata": {},
     "output_type": "execute_result"
    }
   ],
   "source": [
    "regressor = DecisionTreeRegressor(random_state = 42) \n",
    "  \n",
    "# fit the regressor with X and Y data\n",
    "regressor.fit(X_train, y_train)\n",
    "regressor.fit(X_validation, y_validation)"
   ]
  },
  {
   "cell_type": "code",
   "execution_count": 55,
   "id": "33782f6f",
   "metadata": {
    "execution": {
     "iopub.execute_input": "2023-04-18T07:17:28.242353Z",
     "iopub.status.busy": "2023-04-18T07:17:28.241883Z",
     "iopub.status.idle": "2023-04-18T07:17:28.355223Z",
     "shell.execute_reply": "2023-04-18T07:17:28.353804Z"
    },
    "papermill": {
     "duration": 0.141185,
     "end_time": "2023-04-18T07:17:28.358973",
     "exception": false,
     "start_time": "2023-04-18T07:17:28.217788",
     "status": "completed"
    },
    "tags": []
   },
   "outputs": [],
   "source": [
    "model_dt_score = regressor.score(X_train,y_train)\n",
    "model_dt_score1 = regressor.score(X_validation, y_validation)"
   ]
  },
  {
   "cell_type": "code",
   "execution_count": 56,
   "id": "d0620b1a",
   "metadata": {
    "execution": {
     "iopub.execute_input": "2023-04-18T07:17:28.406780Z",
     "iopub.status.busy": "2023-04-18T07:17:28.406021Z",
     "iopub.status.idle": "2023-04-18T07:17:28.413331Z",
     "shell.execute_reply": "2023-04-18T07:17:28.411799Z"
    },
    "papermill": {
     "duration": 0.034939,
     "end_time": "2023-04-18T07:17:28.416160",
     "exception": false,
     "start_time": "2023-04-18T07:17:28.381221",
     "status": "completed"
    },
    "tags": []
   },
   "outputs": [
    {
     "name": "stdout",
     "output_type": "stream",
     "text": [
      "0.37899296524713744\n",
      "0.4348815832911461\n"
     ]
    }
   ],
   "source": [
    "print(model_dt_score)\n",
    "print(model_dt_score1)"
   ]
  },
  {
   "cell_type": "code",
   "execution_count": 57,
   "id": "e806a56e",
   "metadata": {
    "execution": {
     "iopub.execute_input": "2023-04-18T07:17:28.464398Z",
     "iopub.status.busy": "2023-04-18T07:17:28.463835Z",
     "iopub.status.idle": "2023-04-18T07:17:28.571175Z",
     "shell.execute_reply": "2023-04-18T07:17:28.569910Z"
    },
    "papermill": {
     "duration": 0.13491,
     "end_time": "2023-04-18T07:17:28.574264",
     "exception": false,
     "start_time": "2023-04-18T07:17:28.439354",
     "status": "completed"
    },
    "tags": []
   },
   "outputs": [],
   "source": [
    "regressor_train_pred = regressor.predict(X_train)\n",
    "regressor_validation_pred = regressor.predict(X_validation)"
   ]
  },
  {
   "cell_type": "code",
   "execution_count": 58,
   "id": "2a333559",
   "metadata": {
    "execution": {
     "iopub.execute_input": "2023-04-18T07:17:28.620296Z",
     "iopub.status.busy": "2023-04-18T07:17:28.619873Z",
     "iopub.status.idle": "2023-04-18T07:17:28.626853Z",
     "shell.execute_reply": "2023-04-18T07:17:28.625699Z"
    },
    "papermill": {
     "duration": 0.033043,
     "end_time": "2023-04-18T07:17:28.629438",
     "exception": false,
     "start_time": "2023-04-18T07:17:28.596395",
     "status": "completed"
    },
    "tags": []
   },
   "outputs": [],
   "source": [
    "mse1 = sklearn.metrics.mean_squared_error(y_train, regressor_train_pred)  \n",
    "  \n",
    "rmse1 = math.sqrt(mse1)  "
   ]
  },
  {
   "cell_type": "code",
   "execution_count": 59,
   "id": "37f47a95",
   "metadata": {
    "execution": {
     "iopub.execute_input": "2023-04-18T07:17:28.677696Z",
     "iopub.status.busy": "2023-04-18T07:17:28.676326Z",
     "iopub.status.idle": "2023-04-18T07:17:28.683435Z",
     "shell.execute_reply": "2023-04-18T07:17:28.681820Z"
    },
    "papermill": {
     "duration": 0.034185,
     "end_time": "2023-04-18T07:17:28.685962",
     "exception": false,
     "start_time": "2023-04-18T07:17:28.651777",
     "status": "completed"
    },
    "tags": []
   },
   "outputs": [
    {
     "name": "stdout",
     "output_type": "stream",
     "text": [
      "7.923943178511855\n",
      "2.8149499424522375\n"
     ]
    }
   ],
   "source": [
    "print(mse1)\n",
    "print(rmse1) "
   ]
  },
  {
   "cell_type": "code",
   "execution_count": 60,
   "id": "eef86046",
   "metadata": {
    "execution": {
     "iopub.execute_input": "2023-04-18T07:17:28.732907Z",
     "iopub.status.busy": "2023-04-18T07:17:28.732433Z",
     "iopub.status.idle": "2023-04-18T07:17:28.739724Z",
     "shell.execute_reply": "2023-04-18T07:17:28.738572Z"
    },
    "papermill": {
     "duration": 0.03398,
     "end_time": "2023-04-18T07:17:28.742324",
     "exception": false,
     "start_time": "2023-04-18T07:17:28.708344",
     "status": "completed"
    },
    "tags": []
   },
   "outputs": [],
   "source": [
    "mse2 = sklearn.metrics.mean_squared_error(y_validation, regressor_validation_pred)  \n",
    "  \n",
    "rmse2 = math.sqrt(mse2) "
   ]
  },
  {
   "cell_type": "code",
   "execution_count": 61,
   "id": "8fd71cef",
   "metadata": {
    "execution": {
     "iopub.execute_input": "2023-04-18T07:17:28.789887Z",
     "iopub.status.busy": "2023-04-18T07:17:28.789404Z",
     "iopub.status.idle": "2023-04-18T07:17:28.796287Z",
     "shell.execute_reply": "2023-04-18T07:17:28.794829Z"
    },
    "papermill": {
     "duration": 0.034335,
     "end_time": "2023-04-18T07:17:28.799230",
     "exception": false,
     "start_time": "2023-04-18T07:17:28.764895",
     "status": "completed"
    },
    "tags": []
   },
   "outputs": [
    {
     "name": "stdout",
     "output_type": "stream",
     "text": [
      "7.52364600573033\n",
      "2.7429265403452443\n"
     ]
    }
   ],
   "source": [
    "print(mse2)\n",
    "print(rmse2) "
   ]
  },
  {
   "cell_type": "code",
   "execution_count": 62,
   "id": "03506cfc",
   "metadata": {
    "execution": {
     "iopub.execute_input": "2023-04-18T07:17:28.848359Z",
     "iopub.status.busy": "2023-04-18T07:17:28.847897Z",
     "iopub.status.idle": "2023-04-18T07:17:28.881661Z",
     "shell.execute_reply": "2023-04-18T07:17:28.880051Z"
    },
    "papermill": {
     "duration": 0.062799,
     "end_time": "2023-04-18T07:17:28.884778",
     "exception": false,
     "start_time": "2023-04-18T07:17:28.821979",
     "status": "completed"
    },
    "tags": []
   },
   "outputs": [],
   "source": [
    "dataset_test = pd.read_csv(\"test_data.csv\")\n"
   ]
  },
  {
   "cell_type": "code",
   "execution_count": 63,
   "id": "1c14927b",
   "metadata": {
    "execution": {
     "iopub.execute_input": "2023-04-18T07:17:28.935884Z",
     "iopub.status.busy": "2023-04-18T07:17:28.935408Z",
     "iopub.status.idle": "2023-04-18T07:17:28.949658Z",
     "shell.execute_reply": "2023-04-18T07:17:28.948304Z"
    },
    "papermill": {
     "duration": 0.044255,
     "end_time": "2023-04-18T07:17:28.952400",
     "exception": false,
     "start_time": "2023-04-18T07:17:28.908145",
     "status": "completed"
    },
    "tags": []
   },
   "outputs": [
    {
     "data": {
      "text/html": [
       "<div>\n",
       "<style scoped>\n",
       "    .dataframe tbody tr th:only-of-type {\n",
       "        vertical-align: middle;\n",
       "    }\n",
       "\n",
       "    .dataframe tbody tr th {\n",
       "        vertical-align: top;\n",
       "    }\n",
       "\n",
       "    .dataframe thead th {\n",
       "        text-align: right;\n",
       "    }\n",
       "</style>\n",
       "<table border=\"1\" class=\"dataframe\">\n",
       "  <thead>\n",
       "    <tr style=\"text-align: right;\">\n",
       "      <th></th>\n",
       "      <th>id</th>\n",
       "      <th>date</th>\n",
       "      <th>product_identifier</th>\n",
       "      <th>department_identifier</th>\n",
       "      <th>category_of_product</th>\n",
       "      <th>outlet</th>\n",
       "      <th>state</th>\n",
       "    </tr>\n",
       "  </thead>\n",
       "  <tbody>\n",
       "    <tr>\n",
       "      <th>0</th>\n",
       "      <td>1</td>\n",
       "      <td>2014-03-01</td>\n",
       "      <td>74</td>\n",
       "      <td>11</td>\n",
       "      <td>others</td>\n",
       "      <td>111</td>\n",
       "      <td>Maharashtra</td>\n",
       "    </tr>\n",
       "    <tr>\n",
       "      <th>1</th>\n",
       "      <td>2</td>\n",
       "      <td>2014-03-01</td>\n",
       "      <td>337</td>\n",
       "      <td>11</td>\n",
       "      <td>others</td>\n",
       "      <td>111</td>\n",
       "      <td>Maharashtra</td>\n",
       "    </tr>\n",
       "    <tr>\n",
       "      <th>2</th>\n",
       "      <td>3</td>\n",
       "      <td>2014-03-01</td>\n",
       "      <td>423</td>\n",
       "      <td>12</td>\n",
       "      <td>others</td>\n",
       "      <td>111</td>\n",
       "      <td>Maharashtra</td>\n",
       "    </tr>\n",
       "    <tr>\n",
       "      <th>3</th>\n",
       "      <td>4</td>\n",
       "      <td>2014-03-01</td>\n",
       "      <td>432</td>\n",
       "      <td>12</td>\n",
       "      <td>others</td>\n",
       "      <td>111</td>\n",
       "      <td>Maharashtra</td>\n",
       "    </tr>\n",
       "    <tr>\n",
       "      <th>4</th>\n",
       "      <td>5</td>\n",
       "      <td>2014-03-01</td>\n",
       "      <td>581</td>\n",
       "      <td>21</td>\n",
       "      <td>fast_moving_consumer_goods</td>\n",
       "      <td>111</td>\n",
       "      <td>Maharashtra</td>\n",
       "    </tr>\n",
       "  </tbody>\n",
       "</table>\n",
       "</div>"
      ],
      "text/plain": [
       "   id        date  product_identifier  department_identifier  \\\n",
       "0   1  2014-03-01                  74                     11   \n",
       "1   2  2014-03-01                 337                     11   \n",
       "2   3  2014-03-01                 423                     12   \n",
       "3   4  2014-03-01                 432                     12   \n",
       "4   5  2014-03-01                 581                     21   \n",
       "\n",
       "          category_of_product  outlet        state  \n",
       "0                      others     111  Maharashtra  \n",
       "1                      others     111  Maharashtra  \n",
       "2                      others     111  Maharashtra  \n",
       "3                      others     111  Maharashtra  \n",
       "4  fast_moving_consumer_goods     111  Maharashtra  "
      ]
     },
     "execution_count": 63,
     "metadata": {},
     "output_type": "execute_result"
    }
   ],
   "source": [
    "dataset_test.head()"
   ]
  },
  {
   "cell_type": "code",
   "execution_count": 64,
   "id": "265543e0",
   "metadata": {
    "execution": {
     "iopub.execute_input": "2023-04-18T07:17:28.999703Z",
     "iopub.status.busy": "2023-04-18T07:17:28.999217Z",
     "iopub.status.idle": "2023-04-18T07:17:29.029876Z",
     "shell.execute_reply": "2023-04-18T07:17:29.028512Z"
    },
    "papermill": {
     "duration": 0.058092,
     "end_time": "2023-04-18T07:17:29.032999",
     "exception": false,
     "start_time": "2023-04-18T07:17:28.974907",
     "status": "completed"
    },
    "tags": []
   },
   "outputs": [],
   "source": [
    "prod_date_test=pd.merge(product_price,date_to_week, on=['week_id'], how='inner')"
   ]
  },
  {
   "cell_type": "code",
   "execution_count": 65,
   "id": "cd63f5b2",
   "metadata": {
    "execution": {
     "iopub.execute_input": "2023-04-18T07:17:29.081193Z",
     "iopub.status.busy": "2023-04-18T07:17:29.080753Z",
     "iopub.status.idle": "2023-04-18T07:17:29.194270Z",
     "shell.execute_reply": "2023-04-18T07:17:29.192954Z"
    },
    "papermill": {
     "duration": 0.141266,
     "end_time": "2023-04-18T07:17:29.197227",
     "exception": false,
     "start_time": "2023-04-18T07:17:29.055961",
     "status": "completed"
    },
    "tags": []
   },
   "outputs": [
    {
     "data": {
      "text/html": [
       "<div>\n",
       "<style scoped>\n",
       "    .dataframe tbody tr th:only-of-type {\n",
       "        vertical-align: middle;\n",
       "    }\n",
       "\n",
       "    .dataframe tbody tr th {\n",
       "        vertical-align: top;\n",
       "    }\n",
       "\n",
       "    .dataframe thead th {\n",
       "        text-align: right;\n",
       "    }\n",
       "</style>\n",
       "<table border=\"1\" class=\"dataframe\">\n",
       "  <thead>\n",
       "    <tr style=\"text-align: right;\">\n",
       "      <th></th>\n",
       "      <th>id</th>\n",
       "      <th>date</th>\n",
       "      <th>product_identifier</th>\n",
       "      <th>department_identifier</th>\n",
       "      <th>category_of_product</th>\n",
       "      <th>outlet</th>\n",
       "      <th>state</th>\n",
       "      <th>week_id</th>\n",
       "      <th>sell_price</th>\n",
       "    </tr>\n",
       "  </thead>\n",
       "  <tbody>\n",
       "    <tr>\n",
       "      <th>0</th>\n",
       "      <td>1</td>\n",
       "      <td>2014-03-01</td>\n",
       "      <td>74</td>\n",
       "      <td>11</td>\n",
       "      <td>others</td>\n",
       "      <td>111</td>\n",
       "      <td>Maharashtra</td>\n",
       "      <td>162</td>\n",
       "      <td>3.43</td>\n",
       "    </tr>\n",
       "    <tr>\n",
       "      <th>1</th>\n",
       "      <td>2</td>\n",
       "      <td>2014-03-01</td>\n",
       "      <td>337</td>\n",
       "      <td>11</td>\n",
       "      <td>others</td>\n",
       "      <td>111</td>\n",
       "      <td>Maharashtra</td>\n",
       "      <td>162</td>\n",
       "      <td>7.78</td>\n",
       "    </tr>\n",
       "    <tr>\n",
       "      <th>2</th>\n",
       "      <td>3</td>\n",
       "      <td>2014-03-01</td>\n",
       "      <td>423</td>\n",
       "      <td>12</td>\n",
       "      <td>others</td>\n",
       "      <td>111</td>\n",
       "      <td>Maharashtra</td>\n",
       "      <td>162</td>\n",
       "      <td>0.97</td>\n",
       "    </tr>\n",
       "    <tr>\n",
       "      <th>3</th>\n",
       "      <td>4</td>\n",
       "      <td>2014-03-01</td>\n",
       "      <td>432</td>\n",
       "      <td>12</td>\n",
       "      <td>others</td>\n",
       "      <td>111</td>\n",
       "      <td>Maharashtra</td>\n",
       "      <td>162</td>\n",
       "      <td>4.97</td>\n",
       "    </tr>\n",
       "    <tr>\n",
       "      <th>4</th>\n",
       "      <td>5</td>\n",
       "      <td>2014-03-01</td>\n",
       "      <td>581</td>\n",
       "      <td>21</td>\n",
       "      <td>fast_moving_consumer_goods</td>\n",
       "      <td>111</td>\n",
       "      <td>Maharashtra</td>\n",
       "      <td>162</td>\n",
       "      <td>4.88</td>\n",
       "    </tr>\n",
       "    <tr>\n",
       "      <th>...</th>\n",
       "      <td>...</td>\n",
       "      <td>...</td>\n",
       "      <td>...</td>\n",
       "      <td>...</td>\n",
       "      <td>...</td>\n",
       "      <td>...</td>\n",
       "      <td>...</td>\n",
       "      <td>...</td>\n",
       "      <td>...</td>\n",
       "    </tr>\n",
       "    <tr>\n",
       "      <th>15495</th>\n",
       "      <td>15496</td>\n",
       "      <td>2014-03-31</td>\n",
       "      <td>2932</td>\n",
       "      <td>33</td>\n",
       "      <td>drinks_and_food</td>\n",
       "      <td>333</td>\n",
       "      <td>Kerala</td>\n",
       "      <td>166</td>\n",
       "      <td>2.78</td>\n",
       "    </tr>\n",
       "    <tr>\n",
       "      <th>15496</th>\n",
       "      <td>15497</td>\n",
       "      <td>2014-03-31</td>\n",
       "      <td>2935</td>\n",
       "      <td>33</td>\n",
       "      <td>drinks_and_food</td>\n",
       "      <td>333</td>\n",
       "      <td>Kerala</td>\n",
       "      <td>166</td>\n",
       "      <td>0.20</td>\n",
       "    </tr>\n",
       "    <tr>\n",
       "      <th>15497</th>\n",
       "      <td>15498</td>\n",
       "      <td>2014-03-31</td>\n",
       "      <td>3004</td>\n",
       "      <td>33</td>\n",
       "      <td>drinks_and_food</td>\n",
       "      <td>333</td>\n",
       "      <td>Kerala</td>\n",
       "      <td>166</td>\n",
       "      <td>2.68</td>\n",
       "    </tr>\n",
       "    <tr>\n",
       "      <th>15498</th>\n",
       "      <td>15499</td>\n",
       "      <td>2014-03-31</td>\n",
       "      <td>3008</td>\n",
       "      <td>33</td>\n",
       "      <td>drinks_and_food</td>\n",
       "      <td>333</td>\n",
       "      <td>Kerala</td>\n",
       "      <td>166</td>\n",
       "      <td>1.98</td>\n",
       "    </tr>\n",
       "    <tr>\n",
       "      <th>15499</th>\n",
       "      <td>15500</td>\n",
       "      <td>2014-03-31</td>\n",
       "      <td>3021</td>\n",
       "      <td>33</td>\n",
       "      <td>drinks_and_food</td>\n",
       "      <td>333</td>\n",
       "      <td>Kerala</td>\n",
       "      <td>166</td>\n",
       "      <td>2.08</td>\n",
       "    </tr>\n",
       "  </tbody>\n",
       "</table>\n",
       "<p>15500 rows × 9 columns</p>\n",
       "</div>"
      ],
      "text/plain": [
       "          id        date  product_identifier  department_identifier  \\\n",
       "0          1  2014-03-01                  74                     11   \n",
       "1          2  2014-03-01                 337                     11   \n",
       "2          3  2014-03-01                 423                     12   \n",
       "3          4  2014-03-01                 432                     12   \n",
       "4          5  2014-03-01                 581                     21   \n",
       "...      ...         ...                 ...                    ...   \n",
       "15495  15496  2014-03-31                2932                     33   \n",
       "15496  15497  2014-03-31                2935                     33   \n",
       "15497  15498  2014-03-31                3004                     33   \n",
       "15498  15499  2014-03-31                3008                     33   \n",
       "15499  15500  2014-03-31                3021                     33   \n",
       "\n",
       "              category_of_product  outlet        state  week_id  sell_price  \n",
       "0                          others     111  Maharashtra      162        3.43  \n",
       "1                          others     111  Maharashtra      162        7.78  \n",
       "2                          others     111  Maharashtra      162        0.97  \n",
       "3                          others     111  Maharashtra      162        4.97  \n",
       "4      fast_moving_consumer_goods     111  Maharashtra      162        4.88  \n",
       "...                           ...     ...          ...      ...         ...  \n",
       "15495             drinks_and_food     333       Kerala      166        2.78  \n",
       "15496             drinks_and_food     333       Kerala      166        0.20  \n",
       "15497             drinks_and_food     333       Kerala      166        2.68  \n",
       "15498             drinks_and_food     333       Kerala      166        1.98  \n",
       "15499             drinks_and_food     333       Kerala      166        2.08  \n",
       "\n",
       "[15500 rows x 9 columns]"
      ]
     },
     "execution_count": 65,
     "metadata": {},
     "output_type": "execute_result"
    }
   ],
   "source": [
    "test_dataset=pd.merge(dataset_test,prod_date_test, on=['date','product_identifier','outlet'], how='inner')\n",
    "test_dataset"
   ]
  },
  {
   "cell_type": "code",
   "execution_count": 66,
   "id": "660842ad",
   "metadata": {
    "execution": {
     "iopub.execute_input": "2023-04-18T07:17:29.245562Z",
     "iopub.status.busy": "2023-04-18T07:17:29.245095Z",
     "iopub.status.idle": "2023-04-18T07:17:29.252969Z",
     "shell.execute_reply": "2023-04-18T07:17:29.251675Z"
    },
    "papermill": {
     "duration": 0.034829,
     "end_time": "2023-04-18T07:17:29.255524",
     "exception": false,
     "start_time": "2023-04-18T07:17:29.220695",
     "status": "completed"
    },
    "tags": []
   },
   "outputs": [
    {
     "data": {
      "text/plain": [
       "(15500, 9)"
      ]
     },
     "execution_count": 66,
     "metadata": {},
     "output_type": "execute_result"
    }
   ],
   "source": [
    "test_dataset.shape"
   ]
  },
  {
   "cell_type": "code",
   "execution_count": 67,
   "id": "ec603d57",
   "metadata": {
    "execution": {
     "iopub.execute_input": "2023-04-18T07:17:29.303627Z",
     "iopub.status.busy": "2023-04-18T07:17:29.303137Z",
     "iopub.status.idle": "2023-04-18T07:17:29.318555Z",
     "shell.execute_reply": "2023-04-18T07:17:29.317385Z"
    },
    "papermill": {
     "duration": 0.042474,
     "end_time": "2023-04-18T07:17:29.321180",
     "exception": false,
     "start_time": "2023-04-18T07:17:29.278706",
     "status": "completed"
    },
    "tags": []
   },
   "outputs": [
    {
     "data": {
      "text/plain": [
       "id                       0\n",
       "date                     0\n",
       "product_identifier       0\n",
       "department_identifier    0\n",
       "category_of_product      0\n",
       "outlet                   0\n",
       "state                    0\n",
       "week_id                  0\n",
       "sell_price               0\n",
       "dtype: int64"
      ]
     },
     "execution_count": 67,
     "metadata": {},
     "output_type": "execute_result"
    }
   ],
   "source": [
    "test_dataset.isnull().sum()"
   ]
  },
  {
   "cell_type": "code",
   "execution_count": 68,
   "id": "44e9c982",
   "metadata": {
    "execution": {
     "iopub.execute_input": "2023-04-18T07:17:29.369485Z",
     "iopub.status.busy": "2023-04-18T07:17:29.369001Z",
     "iopub.status.idle": "2023-04-18T07:17:29.378309Z",
     "shell.execute_reply": "2023-04-18T07:17:29.377037Z"
    },
    "papermill": {
     "duration": 0.037004,
     "end_time": "2023-04-18T07:17:29.381417",
     "exception": false,
     "start_time": "2023-04-18T07:17:29.344413",
     "status": "completed"
    },
    "tags": []
   },
   "outputs": [
    {
     "data": {
      "text/plain": [
       "id                         int64\n",
       "date                      object\n",
       "product_identifier         int64\n",
       "department_identifier      int64\n",
       "category_of_product       object\n",
       "outlet                     int64\n",
       "state                     object\n",
       "week_id                    int64\n",
       "sell_price               float64\n",
       "dtype: object"
      ]
     },
     "execution_count": 68,
     "metadata": {},
     "output_type": "execute_result"
    }
   ],
   "source": [
    "test_dataset.dtypes"
   ]
  },
  {
   "cell_type": "code",
   "execution_count": 69,
   "id": "ae2cacbb",
   "metadata": {
    "execution": {
     "iopub.execute_input": "2023-04-18T07:17:29.432117Z",
     "iopub.status.busy": "2023-04-18T07:17:29.431597Z",
     "iopub.status.idle": "2023-04-18T07:17:29.448097Z",
     "shell.execute_reply": "2023-04-18T07:17:29.446731Z"
    },
    "papermill": {
     "duration": 0.044628,
     "end_time": "2023-04-18T07:17:29.450958",
     "exception": false,
     "start_time": "2023-04-18T07:17:29.406330",
     "status": "completed"
    },
    "tags": []
   },
   "outputs": [],
   "source": [
    "test_dataset = pd.get_dummies(test_dataset, columns =['category_of_product','state'])"
   ]
  },
  {
   "cell_type": "code",
   "execution_count": 70,
   "id": "eced5109",
   "metadata": {
    "execution": {
     "iopub.execute_input": "2023-04-18T07:17:29.500390Z",
     "iopub.status.busy": "2023-04-18T07:17:29.499065Z",
     "iopub.status.idle": "2023-04-18T07:17:29.521596Z",
     "shell.execute_reply": "2023-04-18T07:17:29.520105Z"
    },
    "papermill": {
     "duration": 0.050107,
     "end_time": "2023-04-18T07:17:29.524547",
     "exception": false,
     "start_time": "2023-04-18T07:17:29.474440",
     "status": "completed"
    },
    "tags": []
   },
   "outputs": [
    {
     "data": {
      "text/html": [
       "<div>\n",
       "<style scoped>\n",
       "    .dataframe tbody tr th:only-of-type {\n",
       "        vertical-align: middle;\n",
       "    }\n",
       "\n",
       "    .dataframe tbody tr th {\n",
       "        vertical-align: top;\n",
       "    }\n",
       "\n",
       "    .dataframe thead th {\n",
       "        text-align: right;\n",
       "    }\n",
       "</style>\n",
       "<table border=\"1\" class=\"dataframe\">\n",
       "  <thead>\n",
       "    <tr style=\"text-align: right;\">\n",
       "      <th></th>\n",
       "      <th>id</th>\n",
       "      <th>date</th>\n",
       "      <th>product_identifier</th>\n",
       "      <th>department_identifier</th>\n",
       "      <th>outlet</th>\n",
       "      <th>week_id</th>\n",
       "      <th>sell_price</th>\n",
       "      <th>category_of_product_drinks_and_food</th>\n",
       "      <th>category_of_product_fast_moving_consumer_goods</th>\n",
       "      <th>category_of_product_others</th>\n",
       "      <th>state_Kerala</th>\n",
       "      <th>state_Maharashtra</th>\n",
       "      <th>state_Telangana</th>\n",
       "    </tr>\n",
       "  </thead>\n",
       "  <tbody>\n",
       "    <tr>\n",
       "      <th>0</th>\n",
       "      <td>1</td>\n",
       "      <td>2014-03-01</td>\n",
       "      <td>74</td>\n",
       "      <td>11</td>\n",
       "      <td>111</td>\n",
       "      <td>162</td>\n",
       "      <td>3.43</td>\n",
       "      <td>0</td>\n",
       "      <td>0</td>\n",
       "      <td>1</td>\n",
       "      <td>0</td>\n",
       "      <td>1</td>\n",
       "      <td>0</td>\n",
       "    </tr>\n",
       "    <tr>\n",
       "      <th>1</th>\n",
       "      <td>2</td>\n",
       "      <td>2014-03-01</td>\n",
       "      <td>337</td>\n",
       "      <td>11</td>\n",
       "      <td>111</td>\n",
       "      <td>162</td>\n",
       "      <td>7.78</td>\n",
       "      <td>0</td>\n",
       "      <td>0</td>\n",
       "      <td>1</td>\n",
       "      <td>0</td>\n",
       "      <td>1</td>\n",
       "      <td>0</td>\n",
       "    </tr>\n",
       "    <tr>\n",
       "      <th>2</th>\n",
       "      <td>3</td>\n",
       "      <td>2014-03-01</td>\n",
       "      <td>423</td>\n",
       "      <td>12</td>\n",
       "      <td>111</td>\n",
       "      <td>162</td>\n",
       "      <td>0.97</td>\n",
       "      <td>0</td>\n",
       "      <td>0</td>\n",
       "      <td>1</td>\n",
       "      <td>0</td>\n",
       "      <td>1</td>\n",
       "      <td>0</td>\n",
       "    </tr>\n",
       "    <tr>\n",
       "      <th>3</th>\n",
       "      <td>4</td>\n",
       "      <td>2014-03-01</td>\n",
       "      <td>432</td>\n",
       "      <td>12</td>\n",
       "      <td>111</td>\n",
       "      <td>162</td>\n",
       "      <td>4.97</td>\n",
       "      <td>0</td>\n",
       "      <td>0</td>\n",
       "      <td>1</td>\n",
       "      <td>0</td>\n",
       "      <td>1</td>\n",
       "      <td>0</td>\n",
       "    </tr>\n",
       "    <tr>\n",
       "      <th>4</th>\n",
       "      <td>5</td>\n",
       "      <td>2014-03-01</td>\n",
       "      <td>581</td>\n",
       "      <td>21</td>\n",
       "      <td>111</td>\n",
       "      <td>162</td>\n",
       "      <td>4.88</td>\n",
       "      <td>0</td>\n",
       "      <td>1</td>\n",
       "      <td>0</td>\n",
       "      <td>0</td>\n",
       "      <td>1</td>\n",
       "      <td>0</td>\n",
       "    </tr>\n",
       "    <tr>\n",
       "      <th>...</th>\n",
       "      <td>...</td>\n",
       "      <td>...</td>\n",
       "      <td>...</td>\n",
       "      <td>...</td>\n",
       "      <td>...</td>\n",
       "      <td>...</td>\n",
       "      <td>...</td>\n",
       "      <td>...</td>\n",
       "      <td>...</td>\n",
       "      <td>...</td>\n",
       "      <td>...</td>\n",
       "      <td>...</td>\n",
       "      <td>...</td>\n",
       "    </tr>\n",
       "    <tr>\n",
       "      <th>15495</th>\n",
       "      <td>15496</td>\n",
       "      <td>2014-03-31</td>\n",
       "      <td>2932</td>\n",
       "      <td>33</td>\n",
       "      <td>333</td>\n",
       "      <td>166</td>\n",
       "      <td>2.78</td>\n",
       "      <td>1</td>\n",
       "      <td>0</td>\n",
       "      <td>0</td>\n",
       "      <td>1</td>\n",
       "      <td>0</td>\n",
       "      <td>0</td>\n",
       "    </tr>\n",
       "    <tr>\n",
       "      <th>15496</th>\n",
       "      <td>15497</td>\n",
       "      <td>2014-03-31</td>\n",
       "      <td>2935</td>\n",
       "      <td>33</td>\n",
       "      <td>333</td>\n",
       "      <td>166</td>\n",
       "      <td>0.20</td>\n",
       "      <td>1</td>\n",
       "      <td>0</td>\n",
       "      <td>0</td>\n",
       "      <td>1</td>\n",
       "      <td>0</td>\n",
       "      <td>0</td>\n",
       "    </tr>\n",
       "    <tr>\n",
       "      <th>15497</th>\n",
       "      <td>15498</td>\n",
       "      <td>2014-03-31</td>\n",
       "      <td>3004</td>\n",
       "      <td>33</td>\n",
       "      <td>333</td>\n",
       "      <td>166</td>\n",
       "      <td>2.68</td>\n",
       "      <td>1</td>\n",
       "      <td>0</td>\n",
       "      <td>0</td>\n",
       "      <td>1</td>\n",
       "      <td>0</td>\n",
       "      <td>0</td>\n",
       "    </tr>\n",
       "    <tr>\n",
       "      <th>15498</th>\n",
       "      <td>15499</td>\n",
       "      <td>2014-03-31</td>\n",
       "      <td>3008</td>\n",
       "      <td>33</td>\n",
       "      <td>333</td>\n",
       "      <td>166</td>\n",
       "      <td>1.98</td>\n",
       "      <td>1</td>\n",
       "      <td>0</td>\n",
       "      <td>0</td>\n",
       "      <td>1</td>\n",
       "      <td>0</td>\n",
       "      <td>0</td>\n",
       "    </tr>\n",
       "    <tr>\n",
       "      <th>15499</th>\n",
       "      <td>15500</td>\n",
       "      <td>2014-03-31</td>\n",
       "      <td>3021</td>\n",
       "      <td>33</td>\n",
       "      <td>333</td>\n",
       "      <td>166</td>\n",
       "      <td>2.08</td>\n",
       "      <td>1</td>\n",
       "      <td>0</td>\n",
       "      <td>0</td>\n",
       "      <td>1</td>\n",
       "      <td>0</td>\n",
       "      <td>0</td>\n",
       "    </tr>\n",
       "  </tbody>\n",
       "</table>\n",
       "<p>15500 rows × 13 columns</p>\n",
       "</div>"
      ],
      "text/plain": [
       "          id        date  product_identifier  department_identifier  outlet  \\\n",
       "0          1  2014-03-01                  74                     11     111   \n",
       "1          2  2014-03-01                 337                     11     111   \n",
       "2          3  2014-03-01                 423                     12     111   \n",
       "3          4  2014-03-01                 432                     12     111   \n",
       "4          5  2014-03-01                 581                     21     111   \n",
       "...      ...         ...                 ...                    ...     ...   \n",
       "15495  15496  2014-03-31                2932                     33     333   \n",
       "15496  15497  2014-03-31                2935                     33     333   \n",
       "15497  15498  2014-03-31                3004                     33     333   \n",
       "15498  15499  2014-03-31                3008                     33     333   \n",
       "15499  15500  2014-03-31                3021                     33     333   \n",
       "\n",
       "       week_id  sell_price  category_of_product_drinks_and_food  \\\n",
       "0          162        3.43                                    0   \n",
       "1          162        7.78                                    0   \n",
       "2          162        0.97                                    0   \n",
       "3          162        4.97                                    0   \n",
       "4          162        4.88                                    0   \n",
       "...        ...         ...                                  ...   \n",
       "15495      166        2.78                                    1   \n",
       "15496      166        0.20                                    1   \n",
       "15497      166        2.68                                    1   \n",
       "15498      166        1.98                                    1   \n",
       "15499      166        2.08                                    1   \n",
       "\n",
       "       category_of_product_fast_moving_consumer_goods  \\\n",
       "0                                                   0   \n",
       "1                                                   0   \n",
       "2                                                   0   \n",
       "3                                                   0   \n",
       "4                                                   1   \n",
       "...                                               ...   \n",
       "15495                                               0   \n",
       "15496                                               0   \n",
       "15497                                               0   \n",
       "15498                                               0   \n",
       "15499                                               0   \n",
       "\n",
       "       category_of_product_others  state_Kerala  state_Maharashtra  \\\n",
       "0                               1             0                  1   \n",
       "1                               1             0                  1   \n",
       "2                               1             0                  1   \n",
       "3                               1             0                  1   \n",
       "4                               0             0                  1   \n",
       "...                           ...           ...                ...   \n",
       "15495                           0             1                  0   \n",
       "15496                           0             1                  0   \n",
       "15497                           0             1                  0   \n",
       "15498                           0             1                  0   \n",
       "15499                           0             1                  0   \n",
       "\n",
       "       state_Telangana  \n",
       "0                    0  \n",
       "1                    0  \n",
       "2                    0  \n",
       "3                    0  \n",
       "4                    0  \n",
       "...                ...  \n",
       "15495                0  \n",
       "15496                0  \n",
       "15497                0  \n",
       "15498                0  \n",
       "15499                0  \n",
       "\n",
       "[15500 rows x 13 columns]"
      ]
     },
     "execution_count": 70,
     "metadata": {},
     "output_type": "execute_result"
    }
   ],
   "source": [
    "test_dataset"
   ]
  },
  {
   "cell_type": "code",
   "execution_count": 71,
   "id": "3c2a44ba",
   "metadata": {
    "execution": {
     "iopub.execute_input": "2023-04-18T07:17:29.574101Z",
     "iopub.status.busy": "2023-04-18T07:17:29.573663Z",
     "iopub.status.idle": "2023-04-18T07:17:29.585429Z",
     "shell.execute_reply": "2023-04-18T07:17:29.584176Z"
    },
    "papermill": {
     "duration": 0.040049,
     "end_time": "2023-04-18T07:17:29.588343",
     "exception": false,
     "start_time": "2023-04-18T07:17:29.548294",
     "status": "completed"
    },
    "tags": []
   },
   "outputs": [],
   "source": [
    "test_dataset['Month'] = pd.to_datetime(test_dataset['date']).dt.month\n"
   ]
  },
  {
   "cell_type": "code",
   "execution_count": 72,
   "id": "48096fc1",
   "metadata": {
    "execution": {
     "iopub.execute_input": "2023-04-18T07:17:29.637990Z",
     "iopub.status.busy": "2023-04-18T07:17:29.637536Z",
     "iopub.status.idle": "2023-04-18T07:17:29.660564Z",
     "shell.execute_reply": "2023-04-18T07:17:29.659171Z"
    },
    "papermill": {
     "duration": 0.050828,
     "end_time": "2023-04-18T07:17:29.663240",
     "exception": false,
     "start_time": "2023-04-18T07:17:29.612412",
     "status": "completed"
    },
    "tags": []
   },
   "outputs": [
    {
     "data": {
      "text/html": [
       "<div>\n",
       "<style scoped>\n",
       "    .dataframe tbody tr th:only-of-type {\n",
       "        vertical-align: middle;\n",
       "    }\n",
       "\n",
       "    .dataframe tbody tr th {\n",
       "        vertical-align: top;\n",
       "    }\n",
       "\n",
       "    .dataframe thead th {\n",
       "        text-align: right;\n",
       "    }\n",
       "</style>\n",
       "<table border=\"1\" class=\"dataframe\">\n",
       "  <thead>\n",
       "    <tr style=\"text-align: right;\">\n",
       "      <th></th>\n",
       "      <th>id</th>\n",
       "      <th>date</th>\n",
       "      <th>product_identifier</th>\n",
       "      <th>department_identifier</th>\n",
       "      <th>outlet</th>\n",
       "      <th>week_id</th>\n",
       "      <th>sell_price</th>\n",
       "      <th>category_of_product_drinks_and_food</th>\n",
       "      <th>category_of_product_fast_moving_consumer_goods</th>\n",
       "      <th>category_of_product_others</th>\n",
       "      <th>state_Kerala</th>\n",
       "      <th>state_Maharashtra</th>\n",
       "      <th>state_Telangana</th>\n",
       "      <th>Month</th>\n",
       "    </tr>\n",
       "  </thead>\n",
       "  <tbody>\n",
       "    <tr>\n",
       "      <th>0</th>\n",
       "      <td>1</td>\n",
       "      <td>2014-03-01</td>\n",
       "      <td>74</td>\n",
       "      <td>11</td>\n",
       "      <td>111</td>\n",
       "      <td>162</td>\n",
       "      <td>3.43</td>\n",
       "      <td>0</td>\n",
       "      <td>0</td>\n",
       "      <td>1</td>\n",
       "      <td>0</td>\n",
       "      <td>1</td>\n",
       "      <td>0</td>\n",
       "      <td>3</td>\n",
       "    </tr>\n",
       "    <tr>\n",
       "      <th>1</th>\n",
       "      <td>2</td>\n",
       "      <td>2014-03-01</td>\n",
       "      <td>337</td>\n",
       "      <td>11</td>\n",
       "      <td>111</td>\n",
       "      <td>162</td>\n",
       "      <td>7.78</td>\n",
       "      <td>0</td>\n",
       "      <td>0</td>\n",
       "      <td>1</td>\n",
       "      <td>0</td>\n",
       "      <td>1</td>\n",
       "      <td>0</td>\n",
       "      <td>3</td>\n",
       "    </tr>\n",
       "    <tr>\n",
       "      <th>2</th>\n",
       "      <td>3</td>\n",
       "      <td>2014-03-01</td>\n",
       "      <td>423</td>\n",
       "      <td>12</td>\n",
       "      <td>111</td>\n",
       "      <td>162</td>\n",
       "      <td>0.97</td>\n",
       "      <td>0</td>\n",
       "      <td>0</td>\n",
       "      <td>1</td>\n",
       "      <td>0</td>\n",
       "      <td>1</td>\n",
       "      <td>0</td>\n",
       "      <td>3</td>\n",
       "    </tr>\n",
       "    <tr>\n",
       "      <th>3</th>\n",
       "      <td>4</td>\n",
       "      <td>2014-03-01</td>\n",
       "      <td>432</td>\n",
       "      <td>12</td>\n",
       "      <td>111</td>\n",
       "      <td>162</td>\n",
       "      <td>4.97</td>\n",
       "      <td>0</td>\n",
       "      <td>0</td>\n",
       "      <td>1</td>\n",
       "      <td>0</td>\n",
       "      <td>1</td>\n",
       "      <td>0</td>\n",
       "      <td>3</td>\n",
       "    </tr>\n",
       "    <tr>\n",
       "      <th>4</th>\n",
       "      <td>5</td>\n",
       "      <td>2014-03-01</td>\n",
       "      <td>581</td>\n",
       "      <td>21</td>\n",
       "      <td>111</td>\n",
       "      <td>162</td>\n",
       "      <td>4.88</td>\n",
       "      <td>0</td>\n",
       "      <td>1</td>\n",
       "      <td>0</td>\n",
       "      <td>0</td>\n",
       "      <td>1</td>\n",
       "      <td>0</td>\n",
       "      <td>3</td>\n",
       "    </tr>\n",
       "    <tr>\n",
       "      <th>...</th>\n",
       "      <td>...</td>\n",
       "      <td>...</td>\n",
       "      <td>...</td>\n",
       "      <td>...</td>\n",
       "      <td>...</td>\n",
       "      <td>...</td>\n",
       "      <td>...</td>\n",
       "      <td>...</td>\n",
       "      <td>...</td>\n",
       "      <td>...</td>\n",
       "      <td>...</td>\n",
       "      <td>...</td>\n",
       "      <td>...</td>\n",
       "      <td>...</td>\n",
       "    </tr>\n",
       "    <tr>\n",
       "      <th>15495</th>\n",
       "      <td>15496</td>\n",
       "      <td>2014-03-31</td>\n",
       "      <td>2932</td>\n",
       "      <td>33</td>\n",
       "      <td>333</td>\n",
       "      <td>166</td>\n",
       "      <td>2.78</td>\n",
       "      <td>1</td>\n",
       "      <td>0</td>\n",
       "      <td>0</td>\n",
       "      <td>1</td>\n",
       "      <td>0</td>\n",
       "      <td>0</td>\n",
       "      <td>3</td>\n",
       "    </tr>\n",
       "    <tr>\n",
       "      <th>15496</th>\n",
       "      <td>15497</td>\n",
       "      <td>2014-03-31</td>\n",
       "      <td>2935</td>\n",
       "      <td>33</td>\n",
       "      <td>333</td>\n",
       "      <td>166</td>\n",
       "      <td>0.20</td>\n",
       "      <td>1</td>\n",
       "      <td>0</td>\n",
       "      <td>0</td>\n",
       "      <td>1</td>\n",
       "      <td>0</td>\n",
       "      <td>0</td>\n",
       "      <td>3</td>\n",
       "    </tr>\n",
       "    <tr>\n",
       "      <th>15497</th>\n",
       "      <td>15498</td>\n",
       "      <td>2014-03-31</td>\n",
       "      <td>3004</td>\n",
       "      <td>33</td>\n",
       "      <td>333</td>\n",
       "      <td>166</td>\n",
       "      <td>2.68</td>\n",
       "      <td>1</td>\n",
       "      <td>0</td>\n",
       "      <td>0</td>\n",
       "      <td>1</td>\n",
       "      <td>0</td>\n",
       "      <td>0</td>\n",
       "      <td>3</td>\n",
       "    </tr>\n",
       "    <tr>\n",
       "      <th>15498</th>\n",
       "      <td>15499</td>\n",
       "      <td>2014-03-31</td>\n",
       "      <td>3008</td>\n",
       "      <td>33</td>\n",
       "      <td>333</td>\n",
       "      <td>166</td>\n",
       "      <td>1.98</td>\n",
       "      <td>1</td>\n",
       "      <td>0</td>\n",
       "      <td>0</td>\n",
       "      <td>1</td>\n",
       "      <td>0</td>\n",
       "      <td>0</td>\n",
       "      <td>3</td>\n",
       "    </tr>\n",
       "    <tr>\n",
       "      <th>15499</th>\n",
       "      <td>15500</td>\n",
       "      <td>2014-03-31</td>\n",
       "      <td>3021</td>\n",
       "      <td>33</td>\n",
       "      <td>333</td>\n",
       "      <td>166</td>\n",
       "      <td>2.08</td>\n",
       "      <td>1</td>\n",
       "      <td>0</td>\n",
       "      <td>0</td>\n",
       "      <td>1</td>\n",
       "      <td>0</td>\n",
       "      <td>0</td>\n",
       "      <td>3</td>\n",
       "    </tr>\n",
       "  </tbody>\n",
       "</table>\n",
       "<p>15500 rows × 14 columns</p>\n",
       "</div>"
      ],
      "text/plain": [
       "          id        date  product_identifier  department_identifier  outlet  \\\n",
       "0          1  2014-03-01                  74                     11     111   \n",
       "1          2  2014-03-01                 337                     11     111   \n",
       "2          3  2014-03-01                 423                     12     111   \n",
       "3          4  2014-03-01                 432                     12     111   \n",
       "4          5  2014-03-01                 581                     21     111   \n",
       "...      ...         ...                 ...                    ...     ...   \n",
       "15495  15496  2014-03-31                2932                     33     333   \n",
       "15496  15497  2014-03-31                2935                     33     333   \n",
       "15497  15498  2014-03-31                3004                     33     333   \n",
       "15498  15499  2014-03-31                3008                     33     333   \n",
       "15499  15500  2014-03-31                3021                     33     333   \n",
       "\n",
       "       week_id  sell_price  category_of_product_drinks_and_food  \\\n",
       "0          162        3.43                                    0   \n",
       "1          162        7.78                                    0   \n",
       "2          162        0.97                                    0   \n",
       "3          162        4.97                                    0   \n",
       "4          162        4.88                                    0   \n",
       "...        ...         ...                                  ...   \n",
       "15495      166        2.78                                    1   \n",
       "15496      166        0.20                                    1   \n",
       "15497      166        2.68                                    1   \n",
       "15498      166        1.98                                    1   \n",
       "15499      166        2.08                                    1   \n",
       "\n",
       "       category_of_product_fast_moving_consumer_goods  \\\n",
       "0                                                   0   \n",
       "1                                                   0   \n",
       "2                                                   0   \n",
       "3                                                   0   \n",
       "4                                                   1   \n",
       "...                                               ...   \n",
       "15495                                               0   \n",
       "15496                                               0   \n",
       "15497                                               0   \n",
       "15498                                               0   \n",
       "15499                                               0   \n",
       "\n",
       "       category_of_product_others  state_Kerala  state_Maharashtra  \\\n",
       "0                               1             0                  1   \n",
       "1                               1             0                  1   \n",
       "2                               1             0                  1   \n",
       "3                               1             0                  1   \n",
       "4                               0             0                  1   \n",
       "...                           ...           ...                ...   \n",
       "15495                           0             1                  0   \n",
       "15496                           0             1                  0   \n",
       "15497                           0             1                  0   \n",
       "15498                           0             1                  0   \n",
       "15499                           0             1                  0   \n",
       "\n",
       "       state_Telangana  Month  \n",
       "0                    0      3  \n",
       "1                    0      3  \n",
       "2                    0      3  \n",
       "3                    0      3  \n",
       "4                    0      3  \n",
       "...                ...    ...  \n",
       "15495                0      3  \n",
       "15496                0      3  \n",
       "15497                0      3  \n",
       "15498                0      3  \n",
       "15499                0      3  \n",
       "\n",
       "[15500 rows x 14 columns]"
      ]
     },
     "execution_count": 72,
     "metadata": {},
     "output_type": "execute_result"
    }
   ],
   "source": [
    "test_dataset"
   ]
  },
  {
   "cell_type": "code",
   "execution_count": 73,
   "id": "bd12aff0",
   "metadata": {
    "execution": {
     "iopub.execute_input": "2023-04-18T07:17:29.714279Z",
     "iopub.status.busy": "2023-04-18T07:17:29.713402Z",
     "iopub.status.idle": "2023-04-18T07:17:29.734165Z",
     "shell.execute_reply": "2023-04-18T07:17:29.733232Z"
    },
    "papermill": {
     "duration": 0.048708,
     "end_time": "2023-04-18T07:17:29.736810",
     "exception": false,
     "start_time": "2023-04-18T07:17:29.688102",
     "status": "completed"
    },
    "tags": []
   },
   "outputs": [
    {
     "data": {
      "text/html": [
       "<div>\n",
       "<style scoped>\n",
       "    .dataframe tbody tr th:only-of-type {\n",
       "        vertical-align: middle;\n",
       "    }\n",
       "\n",
       "    .dataframe tbody tr th {\n",
       "        vertical-align: top;\n",
       "    }\n",
       "\n",
       "    .dataframe thead th {\n",
       "        text-align: right;\n",
       "    }\n",
       "</style>\n",
       "<table border=\"1\" class=\"dataframe\">\n",
       "  <thead>\n",
       "    <tr style=\"text-align: right;\">\n",
       "      <th></th>\n",
       "      <th>product_identifier</th>\n",
       "      <th>department_identifier</th>\n",
       "      <th>outlet</th>\n",
       "      <th>sell_price</th>\n",
       "      <th>category_of_product_drinks_and_food</th>\n",
       "      <th>category_of_product_fast_moving_consumer_goods</th>\n",
       "      <th>category_of_product_others</th>\n",
       "      <th>state_Kerala</th>\n",
       "      <th>state_Maharashtra</th>\n",
       "      <th>state_Telangana</th>\n",
       "      <th>Month</th>\n",
       "    </tr>\n",
       "  </thead>\n",
       "  <tbody>\n",
       "    <tr>\n",
       "      <th>0</th>\n",
       "      <td>74</td>\n",
       "      <td>11</td>\n",
       "      <td>111</td>\n",
       "      <td>3.43</td>\n",
       "      <td>0</td>\n",
       "      <td>0</td>\n",
       "      <td>1</td>\n",
       "      <td>0</td>\n",
       "      <td>1</td>\n",
       "      <td>0</td>\n",
       "      <td>3</td>\n",
       "    </tr>\n",
       "    <tr>\n",
       "      <th>1</th>\n",
       "      <td>337</td>\n",
       "      <td>11</td>\n",
       "      <td>111</td>\n",
       "      <td>7.78</td>\n",
       "      <td>0</td>\n",
       "      <td>0</td>\n",
       "      <td>1</td>\n",
       "      <td>0</td>\n",
       "      <td>1</td>\n",
       "      <td>0</td>\n",
       "      <td>3</td>\n",
       "    </tr>\n",
       "    <tr>\n",
       "      <th>2</th>\n",
       "      <td>423</td>\n",
       "      <td>12</td>\n",
       "      <td>111</td>\n",
       "      <td>0.97</td>\n",
       "      <td>0</td>\n",
       "      <td>0</td>\n",
       "      <td>1</td>\n",
       "      <td>0</td>\n",
       "      <td>1</td>\n",
       "      <td>0</td>\n",
       "      <td>3</td>\n",
       "    </tr>\n",
       "    <tr>\n",
       "      <th>3</th>\n",
       "      <td>432</td>\n",
       "      <td>12</td>\n",
       "      <td>111</td>\n",
       "      <td>4.97</td>\n",
       "      <td>0</td>\n",
       "      <td>0</td>\n",
       "      <td>1</td>\n",
       "      <td>0</td>\n",
       "      <td>1</td>\n",
       "      <td>0</td>\n",
       "      <td>3</td>\n",
       "    </tr>\n",
       "    <tr>\n",
       "      <th>4</th>\n",
       "      <td>581</td>\n",
       "      <td>21</td>\n",
       "      <td>111</td>\n",
       "      <td>4.88</td>\n",
       "      <td>0</td>\n",
       "      <td>1</td>\n",
       "      <td>0</td>\n",
       "      <td>0</td>\n",
       "      <td>1</td>\n",
       "      <td>0</td>\n",
       "      <td>3</td>\n",
       "    </tr>\n",
       "    <tr>\n",
       "      <th>...</th>\n",
       "      <td>...</td>\n",
       "      <td>...</td>\n",
       "      <td>...</td>\n",
       "      <td>...</td>\n",
       "      <td>...</td>\n",
       "      <td>...</td>\n",
       "      <td>...</td>\n",
       "      <td>...</td>\n",
       "      <td>...</td>\n",
       "      <td>...</td>\n",
       "      <td>...</td>\n",
       "    </tr>\n",
       "    <tr>\n",
       "      <th>15495</th>\n",
       "      <td>2932</td>\n",
       "      <td>33</td>\n",
       "      <td>333</td>\n",
       "      <td>2.78</td>\n",
       "      <td>1</td>\n",
       "      <td>0</td>\n",
       "      <td>0</td>\n",
       "      <td>1</td>\n",
       "      <td>0</td>\n",
       "      <td>0</td>\n",
       "      <td>3</td>\n",
       "    </tr>\n",
       "    <tr>\n",
       "      <th>15496</th>\n",
       "      <td>2935</td>\n",
       "      <td>33</td>\n",
       "      <td>333</td>\n",
       "      <td>0.20</td>\n",
       "      <td>1</td>\n",
       "      <td>0</td>\n",
       "      <td>0</td>\n",
       "      <td>1</td>\n",
       "      <td>0</td>\n",
       "      <td>0</td>\n",
       "      <td>3</td>\n",
       "    </tr>\n",
       "    <tr>\n",
       "      <th>15497</th>\n",
       "      <td>3004</td>\n",
       "      <td>33</td>\n",
       "      <td>333</td>\n",
       "      <td>2.68</td>\n",
       "      <td>1</td>\n",
       "      <td>0</td>\n",
       "      <td>0</td>\n",
       "      <td>1</td>\n",
       "      <td>0</td>\n",
       "      <td>0</td>\n",
       "      <td>3</td>\n",
       "    </tr>\n",
       "    <tr>\n",
       "      <th>15498</th>\n",
       "      <td>3008</td>\n",
       "      <td>33</td>\n",
       "      <td>333</td>\n",
       "      <td>1.98</td>\n",
       "      <td>1</td>\n",
       "      <td>0</td>\n",
       "      <td>0</td>\n",
       "      <td>1</td>\n",
       "      <td>0</td>\n",
       "      <td>0</td>\n",
       "      <td>3</td>\n",
       "    </tr>\n",
       "    <tr>\n",
       "      <th>15499</th>\n",
       "      <td>3021</td>\n",
       "      <td>33</td>\n",
       "      <td>333</td>\n",
       "      <td>2.08</td>\n",
       "      <td>1</td>\n",
       "      <td>0</td>\n",
       "      <td>0</td>\n",
       "      <td>1</td>\n",
       "      <td>0</td>\n",
       "      <td>0</td>\n",
       "      <td>3</td>\n",
       "    </tr>\n",
       "  </tbody>\n",
       "</table>\n",
       "<p>15500 rows × 11 columns</p>\n",
       "</div>"
      ],
      "text/plain": [
       "       product_identifier  department_identifier  outlet  sell_price  \\\n",
       "0                      74                     11     111        3.43   \n",
       "1                     337                     11     111        7.78   \n",
       "2                     423                     12     111        0.97   \n",
       "3                     432                     12     111        4.97   \n",
       "4                     581                     21     111        4.88   \n",
       "...                   ...                    ...     ...         ...   \n",
       "15495                2932                     33     333        2.78   \n",
       "15496                2935                     33     333        0.20   \n",
       "15497                3004                     33     333        2.68   \n",
       "15498                3008                     33     333        1.98   \n",
       "15499                3021                     33     333        2.08   \n",
       "\n",
       "       category_of_product_drinks_and_food  \\\n",
       "0                                        0   \n",
       "1                                        0   \n",
       "2                                        0   \n",
       "3                                        0   \n",
       "4                                        0   \n",
       "...                                    ...   \n",
       "15495                                    1   \n",
       "15496                                    1   \n",
       "15497                                    1   \n",
       "15498                                    1   \n",
       "15499                                    1   \n",
       "\n",
       "       category_of_product_fast_moving_consumer_goods  \\\n",
       "0                                                   0   \n",
       "1                                                   0   \n",
       "2                                                   0   \n",
       "3                                                   0   \n",
       "4                                                   1   \n",
       "...                                               ...   \n",
       "15495                                               0   \n",
       "15496                                               0   \n",
       "15497                                               0   \n",
       "15498                                               0   \n",
       "15499                                               0   \n",
       "\n",
       "       category_of_product_others  state_Kerala  state_Maharashtra  \\\n",
       "0                               1             0                  1   \n",
       "1                               1             0                  1   \n",
       "2                               1             0                  1   \n",
       "3                               1             0                  1   \n",
       "4                               0             0                  1   \n",
       "...                           ...           ...                ...   \n",
       "15495                           0             1                  0   \n",
       "15496                           0             1                  0   \n",
       "15497                           0             1                  0   \n",
       "15498                           0             1                  0   \n",
       "15499                           0             1                  0   \n",
       "\n",
       "       state_Telangana  Month  \n",
       "0                    0      3  \n",
       "1                    0      3  \n",
       "2                    0      3  \n",
       "3                    0      3  \n",
       "4                    0      3  \n",
       "...                ...    ...  \n",
       "15495                0      3  \n",
       "15496                0      3  \n",
       "15497                0      3  \n",
       "15498                0      3  \n",
       "15499                0      3  \n",
       "\n",
       "[15500 rows x 11 columns]"
      ]
     },
     "execution_count": 73,
     "metadata": {},
     "output_type": "execute_result"
    }
   ],
   "source": [
    "test_dataset = test_dataset.drop(columns=[\"date\",\"week_id\",\"id\"])\n",
    "test_dataset"
   ]
  },
  {
   "cell_type": "code",
   "execution_count": 74,
   "id": "cd2f2a25",
   "metadata": {
    "execution": {
     "iopub.execute_input": "2023-04-18T07:17:29.787717Z",
     "iopub.status.busy": "2023-04-18T07:17:29.787237Z",
     "iopub.status.idle": "2023-04-18T07:17:29.798689Z",
     "shell.execute_reply": "2023-04-18T07:17:29.797545Z"
    },
    "papermill": {
     "duration": 0.040342,
     "end_time": "2023-04-18T07:17:29.801639",
     "exception": false,
     "start_time": "2023-04-18T07:17:29.761297",
     "status": "completed"
    },
    "tags": []
   },
   "outputs": [],
   "source": [
    "test_prediction = regressor.predict(test_dataset)"
   ]
  },
  {
   "cell_type": "code",
   "execution_count": 75,
   "id": "61a87bc2",
   "metadata": {
    "execution": {
     "iopub.execute_input": "2023-04-18T07:17:29.852765Z",
     "iopub.status.busy": "2023-04-18T07:17:29.852311Z",
     "iopub.status.idle": "2023-04-18T07:17:29.859854Z",
     "shell.execute_reply": "2023-04-18T07:17:29.858563Z"
    },
    "papermill": {
     "duration": 0.036248,
     "end_time": "2023-04-18T07:17:29.862300",
     "exception": false,
     "start_time": "2023-04-18T07:17:29.826052",
     "status": "completed"
    },
    "tags": []
   },
   "outputs": [
    {
     "data": {
      "text/plain": [
       "array([0.53846154, 3.        , 0.16666667, ..., 4.        , 0.        ,\n",
       "       0.15789474])"
      ]
     },
     "execution_count": 75,
     "metadata": {},
     "output_type": "execute_result"
    }
   ],
   "source": [
    "test_prediction"
   ]
  },
  {
   "cell_type": "code",
   "execution_count": 76,
   "id": "032874a2",
   "metadata": {
    "execution": {
     "iopub.execute_input": "2023-04-18T07:17:29.913436Z",
     "iopub.status.busy": "2023-04-18T07:17:29.912992Z",
     "iopub.status.idle": "2023-04-18T07:17:29.920228Z",
     "shell.execute_reply": "2023-04-18T07:17:29.918771Z"
    },
    "papermill": {
     "duration": 0.035881,
     "end_time": "2023-04-18T07:17:29.922930",
     "exception": false,
     "start_time": "2023-04-18T07:17:29.887049",
     "status": "completed"
    },
    "tags": []
   },
   "outputs": [],
   "source": [
    "final_prediction= pd.DataFrame({'ID':dataset_test['id'], 'sales': test_prediction})"
   ]
  },
  {
   "cell_type": "code",
   "execution_count": 77,
   "id": "21c0baa6",
   "metadata": {
    "execution": {
     "iopub.execute_input": "2023-04-18T07:17:29.975768Z",
     "iopub.status.busy": "2023-04-18T07:17:29.974706Z",
     "iopub.status.idle": "2023-04-18T07:17:30.014548Z",
     "shell.execute_reply": "2023-04-18T07:17:30.013552Z"
    },
    "papermill": {
     "duration": 0.068934,
     "end_time": "2023-04-18T07:17:30.017312",
     "exception": false,
     "start_time": "2023-04-18T07:17:29.948378",
     "status": "completed"
    },
    "tags": []
   },
   "outputs": [],
   "source": [
    "final_prediction.to_csv('/kaggle/working/Submission.csv',index=False)"
   ]
  },
  {
   "cell_type": "code",
   "execution_count": 78,
   "id": "9d434988",
   "metadata": {
    "execution": {
     "iopub.execute_input": "2023-04-18T07:17:30.070899Z",
     "iopub.status.busy": "2023-04-18T07:17:30.069948Z",
     "iopub.status.idle": "2023-04-18T07:17:30.083823Z",
     "shell.execute_reply": "2023-04-18T07:17:30.082379Z"
    },
    "papermill": {
     "duration": 0.04471,
     "end_time": "2023-04-18T07:17:30.086712",
     "exception": false,
     "start_time": "2023-04-18T07:17:30.042002",
     "status": "completed"
    },
    "tags": []
   },
   "outputs": [
    {
     "data": {
      "text/html": [
       "<div>\n",
       "<style scoped>\n",
       "    .dataframe tbody tr th:only-of-type {\n",
       "        vertical-align: middle;\n",
       "    }\n",
       "\n",
       "    .dataframe tbody tr th {\n",
       "        vertical-align: top;\n",
       "    }\n",
       "\n",
       "    .dataframe thead th {\n",
       "        text-align: right;\n",
       "    }\n",
       "</style>\n",
       "<table border=\"1\" class=\"dataframe\">\n",
       "  <thead>\n",
       "    <tr style=\"text-align: right;\">\n",
       "      <th></th>\n",
       "      <th>ID</th>\n",
       "      <th>sales</th>\n",
       "    </tr>\n",
       "  </thead>\n",
       "  <tbody>\n",
       "    <tr>\n",
       "      <th>0</th>\n",
       "      <td>1</td>\n",
       "      <td>0.538462</td>\n",
       "    </tr>\n",
       "    <tr>\n",
       "      <th>1</th>\n",
       "      <td>2</td>\n",
       "      <td>3.000000</td>\n",
       "    </tr>\n",
       "    <tr>\n",
       "      <th>2</th>\n",
       "      <td>3</td>\n",
       "      <td>0.166667</td>\n",
       "    </tr>\n",
       "    <tr>\n",
       "      <th>3</th>\n",
       "      <td>4</td>\n",
       "      <td>0.055556</td>\n",
       "    </tr>\n",
       "    <tr>\n",
       "      <th>4</th>\n",
       "      <td>5</td>\n",
       "      <td>0.411765</td>\n",
       "    </tr>\n",
       "    <tr>\n",
       "      <th>...</th>\n",
       "      <td>...</td>\n",
       "      <td>...</td>\n",
       "    </tr>\n",
       "    <tr>\n",
       "      <th>15495</th>\n",
       "      <td>15496</td>\n",
       "      <td>2.388889</td>\n",
       "    </tr>\n",
       "    <tr>\n",
       "      <th>15496</th>\n",
       "      <td>15497</td>\n",
       "      <td>15.722222</td>\n",
       "    </tr>\n",
       "    <tr>\n",
       "      <th>15497</th>\n",
       "      <td>15498</td>\n",
       "      <td>4.000000</td>\n",
       "    </tr>\n",
       "    <tr>\n",
       "      <th>15498</th>\n",
       "      <td>15499</td>\n",
       "      <td>0.000000</td>\n",
       "    </tr>\n",
       "    <tr>\n",
       "      <th>15499</th>\n",
       "      <td>15500</td>\n",
       "      <td>0.157895</td>\n",
       "    </tr>\n",
       "  </tbody>\n",
       "</table>\n",
       "<p>15500 rows × 2 columns</p>\n",
       "</div>"
      ],
      "text/plain": [
       "          ID      sales\n",
       "0          1   0.538462\n",
       "1          2   3.000000\n",
       "2          3   0.166667\n",
       "3          4   0.055556\n",
       "4          5   0.411765\n",
       "...      ...        ...\n",
       "15495  15496   2.388889\n",
       "15496  15497  15.722222\n",
       "15497  15498   4.000000\n",
       "15498  15499   0.000000\n",
       "15499  15500   0.157895\n",
       "\n",
       "[15500 rows x 2 columns]"
      ]
     },
     "execution_count": 78,
     "metadata": {},
     "output_type": "execute_result"
    }
   ],
   "source": [
    "final_prediction"
   ]
  },
  {
   "cell_type": "code",
   "execution_count": 79,
   "id": "084954dc",
   "metadata": {
    "execution": {
     "iopub.execute_input": "2023-04-18T07:17:30.139995Z",
     "iopub.status.busy": "2023-04-18T07:17:30.139543Z",
     "iopub.status.idle": "2023-04-18T07:17:30.745831Z",
     "shell.execute_reply": "2023-04-18T07:17:30.744505Z"
    },
    "papermill": {
     "duration": 0.636801,
     "end_time": "2023-04-18T07:17:30.748732",
     "exception": false,
     "start_time": "2023-04-18T07:17:30.111931",
     "status": "completed"
    },
    "tags": []
   },
   "outputs": [
    {
     "data": {
      "text/plain": [
       "<AxesSubplot:>"
      ]
     },
     "execution_count": 79,
     "metadata": {},
     "output_type": "execute_result"
    },
    {
     "data": {
      "image/png": "[encoded data removed]",
      "text/plain": [
       "<Figure size 640x480 with 2 Axes>"
      ]
     },
     "metadata": {},
     "output_type": "display_data"
    }
   ],
   "source": [
    "sns.heatmap(train_dataset.corr(),annot=True)"
   ]
  },
  {
   "cell_type": "code",
   "execution_count": 80,
   "id": "4c872c98",
   "metadata": {
    "execution": {
     "iopub.execute_input": "2023-04-18T07:17:30.802844Z",
     "iopub.status.busy": "2023-04-18T07:17:30.802317Z",
     "iopub.status.idle": "2023-04-18T07:17:42.858454Z",
     "shell.execute_reply": "2023-04-18T07:17:42.857155Z"
    },
    "papermill": {
     "duration": 12.087008,
     "end_time": "2023-04-18T07:17:42.861684",
     "exception": false,
     "start_time": "2023-04-18T07:17:30.774676",
     "status": "completed"
    },
    "tags": []
   },
   "outputs": [
    {
     "data": {
      "text/plain": [
       "product_identifier         AxesSubplot(0.125,0.847647;0.0260067x0.0323529)\n",
       "department_identifier    AxesSubplot(0.156208,0.847647;0.0260067x0.0323...\n",
       "outlet                   AxesSubplot(0.187416,0.847647;0.0260067x0.0323...\n",
       "sales                    AxesSubplot(0.218624,0.847647;0.0260067x0.0323...\n",
       "week_id                  AxesSubplot(0.249832,0.847647;0.0260067x0.0323...\n",
       "sell_price               AxesSubplot(0.28104,0.847647;0.0260067x0.0323529)\n",
       "dtype: object"
      ]
     },
     "execution_count": 80,
     "metadata": {},
     "output_type": "execute_result"
    },
    {
     "data": {
      "image/png": "[encoded data removed]",
      "text/plain": [
       "<Figure size 5000x5000 with 500 Axes>"
      ]
     },
     "metadata": {},
     "output_type": "display_data"
    }
   ],
   "source": [
    "(train_dataset.plot(kind=\"box\", subplots=True, layout=(20,25),figsize=(50,50)))"
   ]
  },
  {
   "cell_type": "code",
   "execution_count": null,
   "id": "5acea84a",
   "metadata": {
    "papermill": {
     "duration": 0.026027,
     "end_time": "2023-04-18T07:17:42.913830",
     "exception": false,
     "start_time": "2023-04-18T07:17:42.887803",
     "status": "completed"
    },
    "tags": []
   },
   "outputs": [],
   "source": []
  }
 ],
 "metadata": {
  "kernelspec": {
   "display_name": "Python 3",
   "language": "python",
   "name": "python3"
  },
  "language_info": {
   "codemirror_mode": {
    "name": "ipython",
    "version": 3
   },
   "file_extension": ".py",
   "mimetype": "text/x-python",
   "name": "python",
   "nbconvert_exporter": "python",
   "pygments_lexer": "ipython3",
   "version": "3.7.12"
  },
  "papermill": {
   "default_parameters": {},
   "duration": 42.942255,
   "end_time": "2023-04-18T07:17:46.230713",
   "environment_variables": {},
   "exception": null,
   "input_path": "__notebook__.ipynb",
   "output_path": "__notebook__.ipynb",
   "parameters": {},
   "start_time": "2023-04-18T07:17:03.288458",
   "version": "2.4.0"
  }
 },
 "nbformat": 4,
 "nbformat_minor": 5
}
